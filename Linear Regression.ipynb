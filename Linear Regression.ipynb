{
 "cells": [
  {
   "cell_type": "code",
   "execution_count": 0,
   "metadata": {
    "application/vnd.databricks.v1+cell": {
     "cellMetadata": {
      "byteLimit": 2048000,
      "rowLimit": 10000
     },
     "inputWidgets": {},
     "nuid": "e16a4ac2-57e8-475b-9e85-719081b740d6",
     "showTitle": false,
     "title": ""
    }
   },
   "outputs": [
    {
     "output_type": "display_data",
     "data": {
      "text/html": [
       "<style scoped>\n",
       "  .table-result-container {\n",
       "    max-height: 300px;\n",
       "    overflow: auto;\n",
       "  }\n",
       "  table, th, td {\n",
       "    border: 1px solid black;\n",
       "    border-collapse: collapse;\n",
       "  }\n",
       "  th, td {\n",
       "    padding: 5px;\n",
       "  }\n",
       "  th {\n",
       "    text-align: left;\n",
       "  }\n",
       "</style><div class='table-result-container'><table class='table-result'><thead style='background-color: white'><tr><th>total_bill</th><th>tip</th><th>sex</th><th>smoker</th><th>day</th><th>time</th><th>size</th></tr></thead><tbody><tr><td>16.99</td><td>1.01</td><td>Female</td><td>No</td><td>Sun</td><td>Dinner</td><td>2</td></tr><tr><td>10.34</td><td>1.66</td><td>Male</td><td>No</td><td>Sun</td><td>Dinner</td><td>3</td></tr><tr><td>21.01</td><td>3.5</td><td>Male</td><td>No</td><td>Sun</td><td>Dinner</td><td>3</td></tr><tr><td>23.68</td><td>3.31</td><td>Male</td><td>No</td><td>Sun</td><td>Dinner</td><td>2</td></tr><tr><td>24.59</td><td>3.61</td><td>Female</td><td>No</td><td>Sun</td><td>Dinner</td><td>4</td></tr><tr><td>25.29</td><td>4.71</td><td>Male</td><td>No</td><td>Sun</td><td>Dinner</td><td>4</td></tr><tr><td>8.77</td><td>2.0</td><td>Male</td><td>No</td><td>Sun</td><td>Dinner</td><td>2</td></tr><tr><td>26.88</td><td>3.12</td><td>Male</td><td>No</td><td>Sun</td><td>Dinner</td><td>4</td></tr><tr><td>15.04</td><td>1.96</td><td>Male</td><td>No</td><td>Sun</td><td>Dinner</td><td>2</td></tr><tr><td>14.78</td><td>3.23</td><td>Male</td><td>No</td><td>Sun</td><td>Dinner</td><td>2</td></tr><tr><td>10.27</td><td>1.71</td><td>Male</td><td>No</td><td>Sun</td><td>Dinner</td><td>2</td></tr><tr><td>35.26</td><td>5.0</td><td>Female</td><td>No</td><td>Sun</td><td>Dinner</td><td>4</td></tr><tr><td>15.42</td><td>1.57</td><td>Male</td><td>No</td><td>Sun</td><td>Dinner</td><td>2</td></tr><tr><td>18.43</td><td>3.0</td><td>Male</td><td>No</td><td>Sun</td><td>Dinner</td><td>4</td></tr><tr><td>14.83</td><td>3.02</td><td>Female</td><td>No</td><td>Sun</td><td>Dinner</td><td>2</td></tr><tr><td>21.58</td><td>3.92</td><td>Male</td><td>No</td><td>Sun</td><td>Dinner</td><td>2</td></tr><tr><td>10.33</td><td>1.67</td><td>Female</td><td>No</td><td>Sun</td><td>Dinner</td><td>3</td></tr><tr><td>16.29</td><td>3.71</td><td>Male</td><td>No</td><td>Sun</td><td>Dinner</td><td>3</td></tr><tr><td>16.97</td><td>3.5</td><td>Female</td><td>No</td><td>Sun</td><td>Dinner</td><td>3</td></tr><tr><td>20.65</td><td>3.35</td><td>Male</td><td>No</td><td>Sat</td><td>Dinner</td><td>3</td></tr><tr><td>17.92</td><td>4.08</td><td>Male</td><td>No</td><td>Sat</td><td>Dinner</td><td>2</td></tr><tr><td>20.29</td><td>2.75</td><td>Female</td><td>No</td><td>Sat</td><td>Dinner</td><td>2</td></tr><tr><td>15.77</td><td>2.23</td><td>Female</td><td>No</td><td>Sat</td><td>Dinner</td><td>2</td></tr><tr><td>39.42</td><td>7.58</td><td>Male</td><td>No</td><td>Sat</td><td>Dinner</td><td>4</td></tr><tr><td>19.82</td><td>3.18</td><td>Male</td><td>No</td><td>Sat</td><td>Dinner</td><td>2</td></tr><tr><td>17.81</td><td>2.34</td><td>Male</td><td>No</td><td>Sat</td><td>Dinner</td><td>4</td></tr><tr><td>13.37</td><td>2.0</td><td>Male</td><td>No</td><td>Sat</td><td>Dinner</td><td>2</td></tr><tr><td>12.69</td><td>2.0</td><td>Male</td><td>No</td><td>Sat</td><td>Dinner</td><td>2</td></tr><tr><td>21.7</td><td>4.3</td><td>Male</td><td>No</td><td>Sat</td><td>Dinner</td><td>2</td></tr><tr><td>19.65</td><td>3.0</td><td>Female</td><td>No</td><td>Sat</td><td>Dinner</td><td>2</td></tr><tr><td>9.55</td><td>1.45</td><td>Male</td><td>No</td><td>Sat</td><td>Dinner</td><td>2</td></tr><tr><td>18.35</td><td>2.5</td><td>Male</td><td>No</td><td>Sat</td><td>Dinner</td><td>4</td></tr><tr><td>15.06</td><td>3.0</td><td>Female</td><td>No</td><td>Sat</td><td>Dinner</td><td>2</td></tr><tr><td>20.69</td><td>2.45</td><td>Female</td><td>No</td><td>Sat</td><td>Dinner</td><td>4</td></tr><tr><td>17.78</td><td>3.27</td><td>Male</td><td>No</td><td>Sat</td><td>Dinner</td><td>2</td></tr><tr><td>24.06</td><td>3.6</td><td>Male</td><td>No</td><td>Sat</td><td>Dinner</td><td>3</td></tr><tr><td>16.31</td><td>2.0</td><td>Male</td><td>No</td><td>Sat</td><td>Dinner</td><td>3</td></tr><tr><td>16.93</td><td>3.07</td><td>Female</td><td>No</td><td>Sat</td><td>Dinner</td><td>3</td></tr><tr><td>18.69</td><td>2.31</td><td>Male</td><td>No</td><td>Sat</td><td>Dinner</td><td>3</td></tr><tr><td>31.27</td><td>5.0</td><td>Male</td><td>No</td><td>Sat</td><td>Dinner</td><td>3</td></tr><tr><td>16.04</td><td>2.24</td><td>Male</td><td>No</td><td>Sat</td><td>Dinner</td><td>3</td></tr><tr><td>17.46</td><td>2.54</td><td>Male</td><td>No</td><td>Sun</td><td>Dinner</td><td>2</td></tr><tr><td>13.94</td><td>3.06</td><td>Male</td><td>No</td><td>Sun</td><td>Dinner</td><td>2</td></tr><tr><td>9.68</td><td>1.32</td><td>Male</td><td>No</td><td>Sun</td><td>Dinner</td><td>2</td></tr><tr><td>30.4</td><td>5.6</td><td>Male</td><td>No</td><td>Sun</td><td>Dinner</td><td>4</td></tr><tr><td>18.29</td><td>3.0</td><td>Male</td><td>No</td><td>Sun</td><td>Dinner</td><td>2</td></tr><tr><td>22.23</td><td>5.0</td><td>Male</td><td>No</td><td>Sun</td><td>Dinner</td><td>2</td></tr><tr><td>32.4</td><td>6.0</td><td>Male</td><td>No</td><td>Sun</td><td>Dinner</td><td>4</td></tr><tr><td>28.55</td><td>2.05</td><td>Male</td><td>No</td><td>Sun</td><td>Dinner</td><td>3</td></tr><tr><td>18.04</td><td>3.0</td><td>Male</td><td>No</td><td>Sun</td><td>Dinner</td><td>2</td></tr><tr><td>12.54</td><td>2.5</td><td>Male</td><td>No</td><td>Sun</td><td>Dinner</td><td>2</td></tr><tr><td>10.29</td><td>2.6</td><td>Female</td><td>No</td><td>Sun</td><td>Dinner</td><td>2</td></tr><tr><td>34.81</td><td>5.2</td><td>Female</td><td>No</td><td>Sun</td><td>Dinner</td><td>4</td></tr><tr><td>9.94</td><td>1.56</td><td>Male</td><td>No</td><td>Sun</td><td>Dinner</td><td>2</td></tr><tr><td>25.56</td><td>4.34</td><td>Male</td><td>No</td><td>Sun</td><td>Dinner</td><td>4</td></tr><tr><td>19.49</td><td>3.51</td><td>Male</td><td>No</td><td>Sun</td><td>Dinner</td><td>2</td></tr><tr><td>38.01</td><td>3.0</td><td>Male</td><td>Yes</td><td>Sat</td><td>Dinner</td><td>4</td></tr><tr><td>26.41</td><td>1.5</td><td>Female</td><td>No</td><td>Sat</td><td>Dinner</td><td>2</td></tr><tr><td>11.24</td><td>1.76</td><td>Male</td><td>Yes</td><td>Sat</td><td>Dinner</td><td>2</td></tr><tr><td>48.27</td><td>6.73</td><td>Male</td><td>No</td><td>Sat</td><td>Dinner</td><td>4</td></tr><tr><td>20.29</td><td>3.21</td><td>Male</td><td>Yes</td><td>Sat</td><td>Dinner</td><td>2</td></tr><tr><td>13.81</td><td>2.0</td><td>Male</td><td>Yes</td><td>Sat</td><td>Dinner</td><td>2</td></tr><tr><td>11.02</td><td>1.98</td><td>Male</td><td>Yes</td><td>Sat</td><td>Dinner</td><td>2</td></tr><tr><td>18.29</td><td>3.76</td><td>Male</td><td>Yes</td><td>Sat</td><td>Dinner</td><td>4</td></tr><tr><td>17.59</td><td>2.64</td><td>Male</td><td>No</td><td>Sat</td><td>Dinner</td><td>3</td></tr><tr><td>20.08</td><td>3.15</td><td>Male</td><td>No</td><td>Sat</td><td>Dinner</td><td>3</td></tr><tr><td>16.45</td><td>2.47</td><td>Female</td><td>No</td><td>Sat</td><td>Dinner</td><td>2</td></tr><tr><td>3.07</td><td>1.0</td><td>Female</td><td>Yes</td><td>Sat</td><td>Dinner</td><td>1</td></tr><tr><td>20.23</td><td>2.01</td><td>Male</td><td>No</td><td>Sat</td><td>Dinner</td><td>2</td></tr><tr><td>15.01</td><td>2.09</td><td>Male</td><td>Yes</td><td>Sat</td><td>Dinner</td><td>2</td></tr><tr><td>12.02</td><td>1.97</td><td>Male</td><td>No</td><td>Sat</td><td>Dinner</td><td>2</td></tr><tr><td>17.07</td><td>3.0</td><td>Female</td><td>No</td><td>Sat</td><td>Dinner</td><td>3</td></tr><tr><td>26.86</td><td>3.14</td><td>Female</td><td>Yes</td><td>Sat</td><td>Dinner</td><td>2</td></tr><tr><td>25.28</td><td>5.0</td><td>Female</td><td>Yes</td><td>Sat</td><td>Dinner</td><td>2</td></tr><tr><td>14.73</td><td>2.2</td><td>Female</td><td>No</td><td>Sat</td><td>Dinner</td><td>2</td></tr><tr><td>10.51</td><td>1.25</td><td>Male</td><td>No</td><td>Sat</td><td>Dinner</td><td>2</td></tr><tr><td>17.92</td><td>3.08</td><td>Male</td><td>Yes</td><td>Sat</td><td>Dinner</td><td>2</td></tr><tr><td>27.2</td><td>4.0</td><td>Male</td><td>No</td><td>Thur</td><td>Lunch</td><td>4</td></tr><tr><td>22.76</td><td>3.0</td><td>Male</td><td>No</td><td>Thur</td><td>Lunch</td><td>2</td></tr><tr><td>17.29</td><td>2.71</td><td>Male</td><td>No</td><td>Thur</td><td>Lunch</td><td>2</td></tr><tr><td>19.44</td><td>3.0</td><td>Male</td><td>Yes</td><td>Thur</td><td>Lunch</td><td>2</td></tr><tr><td>16.66</td><td>3.4</td><td>Male</td><td>No</td><td>Thur</td><td>Lunch</td><td>2</td></tr><tr><td>10.07</td><td>1.83</td><td>Female</td><td>No</td><td>Thur</td><td>Lunch</td><td>1</td></tr><tr><td>32.68</td><td>5.0</td><td>Male</td><td>Yes</td><td>Thur</td><td>Lunch</td><td>2</td></tr><tr><td>15.98</td><td>2.03</td><td>Male</td><td>No</td><td>Thur</td><td>Lunch</td><td>2</td></tr><tr><td>34.83</td><td>5.17</td><td>Female</td><td>No</td><td>Thur</td><td>Lunch</td><td>4</td></tr><tr><td>13.03</td><td>2.0</td><td>Male</td><td>No</td><td>Thur</td><td>Lunch</td><td>2</td></tr><tr><td>18.28</td><td>4.0</td><td>Male</td><td>No</td><td>Thur</td><td>Lunch</td><td>2</td></tr><tr><td>24.71</td><td>5.85</td><td>Male</td><td>No</td><td>Thur</td><td>Lunch</td><td>2</td></tr><tr><td>21.16</td><td>3.0</td><td>Male</td><td>No</td><td>Thur</td><td>Lunch</td><td>2</td></tr><tr><td>28.97</td><td>3.0</td><td>Male</td><td>Yes</td><td>Fri</td><td>Dinner</td><td>2</td></tr><tr><td>22.49</td><td>3.5</td><td>Male</td><td>No</td><td>Fri</td><td>Dinner</td><td>2</td></tr><tr><td>5.75</td><td>1.0</td><td>Female</td><td>Yes</td><td>Fri</td><td>Dinner</td><td>2</td></tr><tr><td>16.32</td><td>4.3</td><td>Female</td><td>Yes</td><td>Fri</td><td>Dinner</td><td>2</td></tr><tr><td>22.75</td><td>3.25</td><td>Female</td><td>No</td><td>Fri</td><td>Dinner</td><td>2</td></tr><tr><td>40.17</td><td>4.73</td><td>Male</td><td>Yes</td><td>Fri</td><td>Dinner</td><td>4</td></tr><tr><td>27.28</td><td>4.0</td><td>Male</td><td>Yes</td><td>Fri</td><td>Dinner</td><td>2</td></tr><tr><td>12.03</td><td>1.5</td><td>Male</td><td>Yes</td><td>Fri</td><td>Dinner</td><td>2</td></tr><tr><td>21.01</td><td>3.0</td><td>Male</td><td>Yes</td><td>Fri</td><td>Dinner</td><td>2</td></tr><tr><td>12.46</td><td>1.5</td><td>Male</td><td>No</td><td>Fri</td><td>Dinner</td><td>2</td></tr><tr><td>11.35</td><td>2.5</td><td>Female</td><td>Yes</td><td>Fri</td><td>Dinner</td><td>2</td></tr><tr><td>15.38</td><td>3.0</td><td>Female</td><td>Yes</td><td>Fri</td><td>Dinner</td><td>2</td></tr><tr><td>44.3</td><td>2.5</td><td>Female</td><td>Yes</td><td>Sat</td><td>Dinner</td><td>3</td></tr><tr><td>22.42</td><td>3.48</td><td>Female</td><td>Yes</td><td>Sat</td><td>Dinner</td><td>2</td></tr><tr><td>20.92</td><td>4.08</td><td>Female</td><td>No</td><td>Sat</td><td>Dinner</td><td>2</td></tr><tr><td>15.36</td><td>1.64</td><td>Male</td><td>Yes</td><td>Sat</td><td>Dinner</td><td>2</td></tr><tr><td>20.49</td><td>4.06</td><td>Male</td><td>Yes</td><td>Sat</td><td>Dinner</td><td>2</td></tr><tr><td>25.21</td><td>4.29</td><td>Male</td><td>Yes</td><td>Sat</td><td>Dinner</td><td>2</td></tr><tr><td>18.24</td><td>3.76</td><td>Male</td><td>No</td><td>Sat</td><td>Dinner</td><td>2</td></tr><tr><td>14.31</td><td>4.0</td><td>Female</td><td>Yes</td><td>Sat</td><td>Dinner</td><td>2</td></tr><tr><td>14.0</td><td>3.0</td><td>Male</td><td>No</td><td>Sat</td><td>Dinner</td><td>2</td></tr><tr><td>7.25</td><td>1.0</td><td>Female</td><td>No</td><td>Sat</td><td>Dinner</td><td>1</td></tr><tr><td>38.07</td><td>4.0</td><td>Male</td><td>No</td><td>Sun</td><td>Dinner</td><td>3</td></tr><tr><td>23.95</td><td>2.55</td><td>Male</td><td>No</td><td>Sun</td><td>Dinner</td><td>2</td></tr><tr><td>25.71</td><td>4.0</td><td>Female</td><td>No</td><td>Sun</td><td>Dinner</td><td>3</td></tr><tr><td>17.31</td><td>3.5</td><td>Female</td><td>No</td><td>Sun</td><td>Dinner</td><td>2</td></tr><tr><td>29.93</td><td>5.07</td><td>Male</td><td>No</td><td>Sun</td><td>Dinner</td><td>4</td></tr><tr><td>10.65</td><td>1.5</td><td>Female</td><td>No</td><td>Thur</td><td>Lunch</td><td>2</td></tr><tr><td>12.43</td><td>1.8</td><td>Female</td><td>No</td><td>Thur</td><td>Lunch</td><td>2</td></tr><tr><td>24.08</td><td>2.92</td><td>Female</td><td>No</td><td>Thur</td><td>Lunch</td><td>4</td></tr><tr><td>11.69</td><td>2.31</td><td>Male</td><td>No</td><td>Thur</td><td>Lunch</td><td>2</td></tr><tr><td>13.42</td><td>1.68</td><td>Female</td><td>No</td><td>Thur</td><td>Lunch</td><td>2</td></tr><tr><td>14.26</td><td>2.5</td><td>Male</td><td>No</td><td>Thur</td><td>Lunch</td><td>2</td></tr><tr><td>15.95</td><td>2.0</td><td>Male</td><td>No</td><td>Thur</td><td>Lunch</td><td>2</td></tr><tr><td>12.48</td><td>2.52</td><td>Female</td><td>No</td><td>Thur</td><td>Lunch</td><td>2</td></tr><tr><td>29.8</td><td>4.2</td><td>Female</td><td>No</td><td>Thur</td><td>Lunch</td><td>6</td></tr><tr><td>8.52</td><td>1.48</td><td>Male</td><td>No</td><td>Thur</td><td>Lunch</td><td>2</td></tr><tr><td>14.52</td><td>2.0</td><td>Female</td><td>No</td><td>Thur</td><td>Lunch</td><td>2</td></tr><tr><td>11.38</td><td>2.0</td><td>Female</td><td>No</td><td>Thur</td><td>Lunch</td><td>2</td></tr><tr><td>22.82</td><td>2.18</td><td>Male</td><td>No</td><td>Thur</td><td>Lunch</td><td>3</td></tr><tr><td>19.08</td><td>1.5</td><td>Male</td><td>No</td><td>Thur</td><td>Lunch</td><td>2</td></tr><tr><td>20.27</td><td>2.83</td><td>Female</td><td>No</td><td>Thur</td><td>Lunch</td><td>2</td></tr><tr><td>11.17</td><td>1.5</td><td>Female</td><td>No</td><td>Thur</td><td>Lunch</td><td>2</td></tr><tr><td>12.26</td><td>2.0</td><td>Female</td><td>No</td><td>Thur</td><td>Lunch</td><td>2</td></tr><tr><td>18.26</td><td>3.25</td><td>Female</td><td>No</td><td>Thur</td><td>Lunch</td><td>2</td></tr><tr><td>8.51</td><td>1.25</td><td>Female</td><td>No</td><td>Thur</td><td>Lunch</td><td>2</td></tr><tr><td>10.33</td><td>2.0</td><td>Female</td><td>No</td><td>Thur</td><td>Lunch</td><td>2</td></tr><tr><td>14.15</td><td>2.0</td><td>Female</td><td>No</td><td>Thur</td><td>Lunch</td><td>2</td></tr><tr><td>16.0</td><td>2.0</td><td>Male</td><td>Yes</td><td>Thur</td><td>Lunch</td><td>2</td></tr><tr><td>13.16</td><td>2.75</td><td>Female</td><td>No</td><td>Thur</td><td>Lunch</td><td>2</td></tr><tr><td>17.47</td><td>3.5</td><td>Female</td><td>No</td><td>Thur</td><td>Lunch</td><td>2</td></tr><tr><td>34.3</td><td>6.7</td><td>Male</td><td>No</td><td>Thur</td><td>Lunch</td><td>6</td></tr><tr><td>41.19</td><td>5.0</td><td>Male</td><td>No</td><td>Thur</td><td>Lunch</td><td>5</td></tr><tr><td>27.05</td><td>5.0</td><td>Female</td><td>No</td><td>Thur</td><td>Lunch</td><td>6</td></tr><tr><td>16.43</td><td>2.3</td><td>Female</td><td>No</td><td>Thur</td><td>Lunch</td><td>2</td></tr><tr><td>8.35</td><td>1.5</td><td>Female</td><td>No</td><td>Thur</td><td>Lunch</td><td>2</td></tr><tr><td>18.64</td><td>1.36</td><td>Female</td><td>No</td><td>Thur</td><td>Lunch</td><td>3</td></tr><tr><td>11.87</td><td>1.63</td><td>Female</td><td>No</td><td>Thur</td><td>Lunch</td><td>2</td></tr><tr><td>9.78</td><td>1.73</td><td>Male</td><td>No</td><td>Thur</td><td>Lunch</td><td>2</td></tr><tr><td>7.51</td><td>2.0</td><td>Male</td><td>No</td><td>Thur</td><td>Lunch</td><td>2</td></tr><tr><td>14.07</td><td>2.5</td><td>Male</td><td>No</td><td>Sun</td><td>Dinner</td><td>2</td></tr><tr><td>13.13</td><td>2.0</td><td>Male</td><td>No</td><td>Sun</td><td>Dinner</td><td>2</td></tr><tr><td>17.26</td><td>2.74</td><td>Male</td><td>No</td><td>Sun</td><td>Dinner</td><td>3</td></tr><tr><td>24.55</td><td>2.0</td><td>Male</td><td>No</td><td>Sun</td><td>Dinner</td><td>4</td></tr><tr><td>19.77</td><td>2.0</td><td>Male</td><td>No</td><td>Sun</td><td>Dinner</td><td>4</td></tr><tr><td>29.85</td><td>5.14</td><td>Female</td><td>No</td><td>Sun</td><td>Dinner</td><td>5</td></tr><tr><td>48.17</td><td>5.0</td><td>Male</td><td>No</td><td>Sun</td><td>Dinner</td><td>6</td></tr><tr><td>25.0</td><td>3.75</td><td>Female</td><td>No</td><td>Sun</td><td>Dinner</td><td>4</td></tr><tr><td>13.39</td><td>2.61</td><td>Female</td><td>No</td><td>Sun</td><td>Dinner</td><td>2</td></tr><tr><td>16.49</td><td>2.0</td><td>Male</td><td>No</td><td>Sun</td><td>Dinner</td><td>4</td></tr><tr><td>21.5</td><td>3.5</td><td>Male</td><td>No</td><td>Sun</td><td>Dinner</td><td>4</td></tr><tr><td>12.66</td><td>2.5</td><td>Male</td><td>No</td><td>Sun</td><td>Dinner</td><td>2</td></tr><tr><td>16.21</td><td>2.0</td><td>Female</td><td>No</td><td>Sun</td><td>Dinner</td><td>3</td></tr><tr><td>13.81</td><td>2.0</td><td>Male</td><td>No</td><td>Sun</td><td>Dinner</td><td>2</td></tr><tr><td>17.51</td><td>3.0</td><td>Female</td><td>Yes</td><td>Sun</td><td>Dinner</td><td>2</td></tr><tr><td>24.52</td><td>3.48</td><td>Male</td><td>No</td><td>Sun</td><td>Dinner</td><td>3</td></tr><tr><td>20.76</td><td>2.24</td><td>Male</td><td>No</td><td>Sun</td><td>Dinner</td><td>2</td></tr><tr><td>31.71</td><td>4.5</td><td>Male</td><td>No</td><td>Sun</td><td>Dinner</td><td>4</td></tr><tr><td>10.59</td><td>1.61</td><td>Female</td><td>Yes</td><td>Sat</td><td>Dinner</td><td>2</td></tr><tr><td>10.63</td><td>2.0</td><td>Female</td><td>Yes</td><td>Sat</td><td>Dinner</td><td>2</td></tr><tr><td>50.81</td><td>10.0</td><td>Male</td><td>Yes</td><td>Sat</td><td>Dinner</td><td>3</td></tr><tr><td>15.81</td><td>3.16</td><td>Male</td><td>Yes</td><td>Sat</td><td>Dinner</td><td>2</td></tr><tr><td>7.25</td><td>5.15</td><td>Male</td><td>Yes</td><td>Sun</td><td>Dinner</td><td>2</td></tr><tr><td>31.85</td><td>3.18</td><td>Male</td><td>Yes</td><td>Sun</td><td>Dinner</td><td>2</td></tr><tr><td>16.82</td><td>4.0</td><td>Male</td><td>Yes</td><td>Sun</td><td>Dinner</td><td>2</td></tr><tr><td>32.9</td><td>3.11</td><td>Male</td><td>Yes</td><td>Sun</td><td>Dinner</td><td>2</td></tr><tr><td>17.89</td><td>2.0</td><td>Male</td><td>Yes</td><td>Sun</td><td>Dinner</td><td>2</td></tr><tr><td>14.48</td><td>2.0</td><td>Male</td><td>Yes</td><td>Sun</td><td>Dinner</td><td>2</td></tr><tr><td>9.6</td><td>4.0</td><td>Female</td><td>Yes</td><td>Sun</td><td>Dinner</td><td>2</td></tr><tr><td>34.63</td><td>3.55</td><td>Male</td><td>Yes</td><td>Sun</td><td>Dinner</td><td>2</td></tr><tr><td>34.65</td><td>3.68</td><td>Male</td><td>Yes</td><td>Sun</td><td>Dinner</td><td>4</td></tr><tr><td>23.33</td><td>5.65</td><td>Male</td><td>Yes</td><td>Sun</td><td>Dinner</td><td>2</td></tr><tr><td>45.35</td><td>3.5</td><td>Male</td><td>Yes</td><td>Sun</td><td>Dinner</td><td>3</td></tr><tr><td>23.17</td><td>6.5</td><td>Male</td><td>Yes</td><td>Sun</td><td>Dinner</td><td>4</td></tr><tr><td>40.55</td><td>3.0</td><td>Male</td><td>Yes</td><td>Sun</td><td>Dinner</td><td>2</td></tr><tr><td>20.69</td><td>5.0</td><td>Male</td><td>No</td><td>Sun</td><td>Dinner</td><td>5</td></tr><tr><td>20.9</td><td>3.5</td><td>Female</td><td>Yes</td><td>Sun</td><td>Dinner</td><td>3</td></tr><tr><td>30.46</td><td>2.0</td><td>Male</td><td>Yes</td><td>Sun</td><td>Dinner</td><td>5</td></tr><tr><td>18.15</td><td>3.5</td><td>Female</td><td>Yes</td><td>Sun</td><td>Dinner</td><td>3</td></tr><tr><td>23.1</td><td>4.0</td><td>Male</td><td>Yes</td><td>Sun</td><td>Dinner</td><td>3</td></tr><tr><td>15.69</td><td>1.5</td><td>Male</td><td>Yes</td><td>Sun</td><td>Dinner</td><td>2</td></tr><tr><td>19.81</td><td>4.19</td><td>Female</td><td>Yes</td><td>Thur</td><td>Lunch</td><td>2</td></tr><tr><td>28.44</td><td>2.56</td><td>Male</td><td>Yes</td><td>Thur</td><td>Lunch</td><td>2</td></tr><tr><td>15.48</td><td>2.02</td><td>Male</td><td>Yes</td><td>Thur</td><td>Lunch</td><td>2</td></tr><tr><td>16.58</td><td>4.0</td><td>Male</td><td>Yes</td><td>Thur</td><td>Lunch</td><td>2</td></tr><tr><td>7.56</td><td>1.44</td><td>Male</td><td>No</td><td>Thur</td><td>Lunch</td><td>2</td></tr><tr><td>10.34</td><td>2.0</td><td>Male</td><td>Yes</td><td>Thur</td><td>Lunch</td><td>2</td></tr><tr><td>43.11</td><td>5.0</td><td>Female</td><td>Yes</td><td>Thur</td><td>Lunch</td><td>4</td></tr><tr><td>13.0</td><td>2.0</td><td>Female</td><td>Yes</td><td>Thur</td><td>Lunch</td><td>2</td></tr><tr><td>13.51</td><td>2.0</td><td>Male</td><td>Yes</td><td>Thur</td><td>Lunch</td><td>2</td></tr><tr><td>18.71</td><td>4.0</td><td>Male</td><td>Yes</td><td>Thur</td><td>Lunch</td><td>3</td></tr><tr><td>12.74</td><td>2.01</td><td>Female</td><td>Yes</td><td>Thur</td><td>Lunch</td><td>2</td></tr><tr><td>13.0</td><td>2.0</td><td>Female</td><td>Yes</td><td>Thur</td><td>Lunch</td><td>2</td></tr><tr><td>16.4</td><td>2.5</td><td>Female</td><td>Yes</td><td>Thur</td><td>Lunch</td><td>2</td></tr><tr><td>20.53</td><td>4.0</td><td>Male</td><td>Yes</td><td>Thur</td><td>Lunch</td><td>4</td></tr><tr><td>16.47</td><td>3.23</td><td>Female</td><td>Yes</td><td>Thur</td><td>Lunch</td><td>3</td></tr><tr><td>26.59</td><td>3.41</td><td>Male</td><td>Yes</td><td>Sat</td><td>Dinner</td><td>3</td></tr><tr><td>38.73</td><td>3.0</td><td>Male</td><td>Yes</td><td>Sat</td><td>Dinner</td><td>4</td></tr><tr><td>24.27</td><td>2.03</td><td>Male</td><td>Yes</td><td>Sat</td><td>Dinner</td><td>2</td></tr><tr><td>12.76</td><td>2.23</td><td>Female</td><td>Yes</td><td>Sat</td><td>Dinner</td><td>2</td></tr><tr><td>30.06</td><td>2.0</td><td>Male</td><td>Yes</td><td>Sat</td><td>Dinner</td><td>3</td></tr><tr><td>25.89</td><td>5.16</td><td>Male</td><td>Yes</td><td>Sat</td><td>Dinner</td><td>4</td></tr><tr><td>48.33</td><td>9.0</td><td>Male</td><td>No</td><td>Sat</td><td>Dinner</td><td>4</td></tr><tr><td>13.27</td><td>2.5</td><td>Female</td><td>Yes</td><td>Sat</td><td>Dinner</td><td>2</td></tr><tr><td>28.17</td><td>6.5</td><td>Female</td><td>Yes</td><td>Sat</td><td>Dinner</td><td>3</td></tr><tr><td>12.9</td><td>1.1</td><td>Female</td><td>Yes</td><td>Sat</td><td>Dinner</td><td>2</td></tr><tr><td>28.15</td><td>3.0</td><td>Male</td><td>Yes</td><td>Sat</td><td>Dinner</td><td>5</td></tr><tr><td>11.59</td><td>1.5</td><td>Male</td><td>Yes</td><td>Sat</td><td>Dinner</td><td>2</td></tr><tr><td>7.74</td><td>1.44</td><td>Male</td><td>Yes</td><td>Sat</td><td>Dinner</td><td>2</td></tr><tr><td>30.14</td><td>3.09</td><td>Female</td><td>Yes</td><td>Sat</td><td>Dinner</td><td>4</td></tr><tr><td>12.16</td><td>2.2</td><td>Male</td><td>Yes</td><td>Fri</td><td>Lunch</td><td>2</td></tr><tr><td>13.42</td><td>3.48</td><td>Female</td><td>Yes</td><td>Fri</td><td>Lunch</td><td>2</td></tr><tr><td>8.58</td><td>1.92</td><td>Male</td><td>Yes</td><td>Fri</td><td>Lunch</td><td>1</td></tr><tr><td>15.98</td><td>3.0</td><td>Female</td><td>No</td><td>Fri</td><td>Lunch</td><td>3</td></tr><tr><td>13.42</td><td>1.58</td><td>Male</td><td>Yes</td><td>Fri</td><td>Lunch</td><td>2</td></tr><tr><td>16.27</td><td>2.5</td><td>Female</td><td>Yes</td><td>Fri</td><td>Lunch</td><td>2</td></tr><tr><td>10.09</td><td>2.0</td><td>Female</td><td>Yes</td><td>Fri</td><td>Lunch</td><td>2</td></tr><tr><td>20.45</td><td>3.0</td><td>Male</td><td>No</td><td>Sat</td><td>Dinner</td><td>4</td></tr><tr><td>13.28</td><td>2.72</td><td>Male</td><td>No</td><td>Sat</td><td>Dinner</td><td>2</td></tr><tr><td>22.12</td><td>2.88</td><td>Female</td><td>Yes</td><td>Sat</td><td>Dinner</td><td>2</td></tr><tr><td>24.01</td><td>2.0</td><td>Male</td><td>Yes</td><td>Sat</td><td>Dinner</td><td>4</td></tr><tr><td>15.69</td><td>3.0</td><td>Male</td><td>Yes</td><td>Sat</td><td>Dinner</td><td>3</td></tr><tr><td>11.61</td><td>3.39</td><td>Male</td><td>No</td><td>Sat</td><td>Dinner</td><td>2</td></tr><tr><td>10.77</td><td>1.47</td><td>Male</td><td>No</td><td>Sat</td><td>Dinner</td><td>2</td></tr><tr><td>15.53</td><td>3.0</td><td>Male</td><td>Yes</td><td>Sat</td><td>Dinner</td><td>2</td></tr><tr><td>10.07</td><td>1.25</td><td>Male</td><td>No</td><td>Sat</td><td>Dinner</td><td>2</td></tr><tr><td>12.6</td><td>1.0</td><td>Male</td><td>Yes</td><td>Sat</td><td>Dinner</td><td>2</td></tr><tr><td>32.83</td><td>1.17</td><td>Male</td><td>Yes</td><td>Sat</td><td>Dinner</td><td>2</td></tr><tr><td>35.83</td><td>4.67</td><td>Female</td><td>No</td><td>Sat</td><td>Dinner</td><td>3</td></tr><tr><td>29.03</td><td>5.92</td><td>Male</td><td>No</td><td>Sat</td><td>Dinner</td><td>3</td></tr><tr><td>27.18</td><td>2.0</td><td>Female</td><td>Yes</td><td>Sat</td><td>Dinner</td><td>2</td></tr><tr><td>22.67</td><td>2.0</td><td>Male</td><td>Yes</td><td>Sat</td><td>Dinner</td><td>2</td></tr><tr><td>17.82</td><td>1.75</td><td>Male</td><td>No</td><td>Sat</td><td>Dinner</td><td>2</td></tr><tr><td>18.78</td><td>3.0</td><td>Female</td><td>No</td><td>Thur</td><td>Dinner</td><td>2</td></tr></tbody></table></div>"
      ]
     },
     "metadata": {
      "application/vnd.databricks.v1+output": {
       "addedWidgets": {},
       "aggData": [],
       "aggError": "",
       "aggOverflow": false,
       "aggSchema": [],
       "aggSeriesLimitReached": false,
       "aggType": "",
       "arguments": {},
       "columnCustomDisplayInfos": {},
       "data": [
        [
         16.99,
         1.01,
         "Female",
         "No",
         "Sun",
         "Dinner",
         2
        ],
        [
         10.34,
         1.66,
         "Male",
         "No",
         "Sun",
         "Dinner",
         3
        ],
        [
         21.01,
         3.5,
         "Male",
         "No",
         "Sun",
         "Dinner",
         3
        ],
        [
         23.68,
         3.31,
         "Male",
         "No",
         "Sun",
         "Dinner",
         2
        ],
        [
         24.59,
         3.61,
         "Female",
         "No",
         "Sun",
         "Dinner",
         4
        ],
        [
         25.29,
         4.71,
         "Male",
         "No",
         "Sun",
         "Dinner",
         4
        ],
        [
         8.77,
         2.0,
         "Male",
         "No",
         "Sun",
         "Dinner",
         2
        ],
        [
         26.88,
         3.12,
         "Male",
         "No",
         "Sun",
         "Dinner",
         4
        ],
        [
         15.04,
         1.96,
         "Male",
         "No",
         "Sun",
         "Dinner",
         2
        ],
        [
         14.78,
         3.23,
         "Male",
         "No",
         "Sun",
         "Dinner",
         2
        ],
        [
         10.27,
         1.71,
         "Male",
         "No",
         "Sun",
         "Dinner",
         2
        ],
        [
         35.26,
         5.0,
         "Female",
         "No",
         "Sun",
         "Dinner",
         4
        ],
        [
         15.42,
         1.57,
         "Male",
         "No",
         "Sun",
         "Dinner",
         2
        ],
        [
         18.43,
         3.0,
         "Male",
         "No",
         "Sun",
         "Dinner",
         4
        ],
        [
         14.83,
         3.02,
         "Female",
         "No",
         "Sun",
         "Dinner",
         2
        ],
        [
         21.58,
         3.92,
         "Male",
         "No",
         "Sun",
         "Dinner",
         2
        ],
        [
         10.33,
         1.67,
         "Female",
         "No",
         "Sun",
         "Dinner",
         3
        ],
        [
         16.29,
         3.71,
         "Male",
         "No",
         "Sun",
         "Dinner",
         3
        ],
        [
         16.97,
         3.5,
         "Female",
         "No",
         "Sun",
         "Dinner",
         3
        ],
        [
         20.65,
         3.35,
         "Male",
         "No",
         "Sat",
         "Dinner",
         3
        ],
        [
         17.92,
         4.08,
         "Male",
         "No",
         "Sat",
         "Dinner",
         2
        ],
        [
         20.29,
         2.75,
         "Female",
         "No",
         "Sat",
         "Dinner",
         2
        ],
        [
         15.77,
         2.23,
         "Female",
         "No",
         "Sat",
         "Dinner",
         2
        ],
        [
         39.42,
         7.58,
         "Male",
         "No",
         "Sat",
         "Dinner",
         4
        ],
        [
         19.82,
         3.18,
         "Male",
         "No",
         "Sat",
         "Dinner",
         2
        ],
        [
         17.81,
         2.34,
         "Male",
         "No",
         "Sat",
         "Dinner",
         4
        ],
        [
         13.37,
         2.0,
         "Male",
         "No",
         "Sat",
         "Dinner",
         2
        ],
        [
         12.69,
         2.0,
         "Male",
         "No",
         "Sat",
         "Dinner",
         2
        ],
        [
         21.7,
         4.3,
         "Male",
         "No",
         "Sat",
         "Dinner",
         2
        ],
        [
         19.65,
         3.0,
         "Female",
         "No",
         "Sat",
         "Dinner",
         2
        ],
        [
         9.55,
         1.45,
         "Male",
         "No",
         "Sat",
         "Dinner",
         2
        ],
        [
         18.35,
         2.5,
         "Male",
         "No",
         "Sat",
         "Dinner",
         4
        ],
        [
         15.06,
         3.0,
         "Female",
         "No",
         "Sat",
         "Dinner",
         2
        ],
        [
         20.69,
         2.45,
         "Female",
         "No",
         "Sat",
         "Dinner",
         4
        ],
        [
         17.78,
         3.27,
         "Male",
         "No",
         "Sat",
         "Dinner",
         2
        ],
        [
         24.06,
         3.6,
         "Male",
         "No",
         "Sat",
         "Dinner",
         3
        ],
        [
         16.31,
         2.0,
         "Male",
         "No",
         "Sat",
         "Dinner",
         3
        ],
        [
         16.93,
         3.07,
         "Female",
         "No",
         "Sat",
         "Dinner",
         3
        ],
        [
         18.69,
         2.31,
         "Male",
         "No",
         "Sat",
         "Dinner",
         3
        ],
        [
         31.27,
         5.0,
         "Male",
         "No",
         "Sat",
         "Dinner",
         3
        ],
        [
         16.04,
         2.24,
         "Male",
         "No",
         "Sat",
         "Dinner",
         3
        ],
        [
         17.46,
         2.54,
         "Male",
         "No",
         "Sun",
         "Dinner",
         2
        ],
        [
         13.94,
         3.06,
         "Male",
         "No",
         "Sun",
         "Dinner",
         2
        ],
        [
         9.68,
         1.32,
         "Male",
         "No",
         "Sun",
         "Dinner",
         2
        ],
        [
         30.4,
         5.6,
         "Male",
         "No",
         "Sun",
         "Dinner",
         4
        ],
        [
         18.29,
         3.0,
         "Male",
         "No",
         "Sun",
         "Dinner",
         2
        ],
        [
         22.23,
         5.0,
         "Male",
         "No",
         "Sun",
         "Dinner",
         2
        ],
        [
         32.4,
         6.0,
         "Male",
         "No",
         "Sun",
         "Dinner",
         4
        ],
        [
         28.55,
         2.05,
         "Male",
         "No",
         "Sun",
         "Dinner",
         3
        ],
        [
         18.04,
         3.0,
         "Male",
         "No",
         "Sun",
         "Dinner",
         2
        ],
        [
         12.54,
         2.5,
         "Male",
         "No",
         "Sun",
         "Dinner",
         2
        ],
        [
         10.29,
         2.6,
         "Female",
         "No",
         "Sun",
         "Dinner",
         2
        ],
        [
         34.81,
         5.2,
         "Female",
         "No",
         "Sun",
         "Dinner",
         4
        ],
        [
         9.94,
         1.56,
         "Male",
         "No",
         "Sun",
         "Dinner",
         2
        ],
        [
         25.56,
         4.34,
         "Male",
         "No",
         "Sun",
         "Dinner",
         4
        ],
        [
         19.49,
         3.51,
         "Male",
         "No",
         "Sun",
         "Dinner",
         2
        ],
        [
         38.01,
         3.0,
         "Male",
         "Yes",
         "Sat",
         "Dinner",
         4
        ],
        [
         26.41,
         1.5,
         "Female",
         "No",
         "Sat",
         "Dinner",
         2
        ],
        [
         11.24,
         1.76,
         "Male",
         "Yes",
         "Sat",
         "Dinner",
         2
        ],
        [
         48.27,
         6.73,
         "Male",
         "No",
         "Sat",
         "Dinner",
         4
        ],
        [
         20.29,
         3.21,
         "Male",
         "Yes",
         "Sat",
         "Dinner",
         2
        ],
        [
         13.81,
         2.0,
         "Male",
         "Yes",
         "Sat",
         "Dinner",
         2
        ],
        [
         11.02,
         1.98,
         "Male",
         "Yes",
         "Sat",
         "Dinner",
         2
        ],
        [
         18.29,
         3.76,
         "Male",
         "Yes",
         "Sat",
         "Dinner",
         4
        ],
        [
         17.59,
         2.64,
         "Male",
         "No",
         "Sat",
         "Dinner",
         3
        ],
        [
         20.08,
         3.15,
         "Male",
         "No",
         "Sat",
         "Dinner",
         3
        ],
        [
         16.45,
         2.47,
         "Female",
         "No",
         "Sat",
         "Dinner",
         2
        ],
        [
         3.07,
         1.0,
         "Female",
         "Yes",
         "Sat",
         "Dinner",
         1
        ],
        [
         20.23,
         2.01,
         "Male",
         "No",
         "Sat",
         "Dinner",
         2
        ],
        [
         15.01,
         2.09,
         "Male",
         "Yes",
         "Sat",
         "Dinner",
         2
        ],
        [
         12.02,
         1.97,
         "Male",
         "No",
         "Sat",
         "Dinner",
         2
        ],
        [
         17.07,
         3.0,
         "Female",
         "No",
         "Sat",
         "Dinner",
         3
        ],
        [
         26.86,
         3.14,
         "Female",
         "Yes",
         "Sat",
         "Dinner",
         2
        ],
        [
         25.28,
         5.0,
         "Female",
         "Yes",
         "Sat",
         "Dinner",
         2
        ],
        [
         14.73,
         2.2,
         "Female",
         "No",
         "Sat",
         "Dinner",
         2
        ],
        [
         10.51,
         1.25,
         "Male",
         "No",
         "Sat",
         "Dinner",
         2
        ],
        [
         17.92,
         3.08,
         "Male",
         "Yes",
         "Sat",
         "Dinner",
         2
        ],
        [
         27.2,
         4.0,
         "Male",
         "No",
         "Thur",
         "Lunch",
         4
        ],
        [
         22.76,
         3.0,
         "Male",
         "No",
         "Thur",
         "Lunch",
         2
        ],
        [
         17.29,
         2.71,
         "Male",
         "No",
         "Thur",
         "Lunch",
         2
        ],
        [
         19.44,
         3.0,
         "Male",
         "Yes",
         "Thur",
         "Lunch",
         2
        ],
        [
         16.66,
         3.4,
         "Male",
         "No",
         "Thur",
         "Lunch",
         2
        ],
        [
         10.07,
         1.83,
         "Female",
         "No",
         "Thur",
         "Lunch",
         1
        ],
        [
         32.68,
         5.0,
         "Male",
         "Yes",
         "Thur",
         "Lunch",
         2
        ],
        [
         15.98,
         2.03,
         "Male",
         "No",
         "Thur",
         "Lunch",
         2
        ],
        [
         34.83,
         5.17,
         "Female",
         "No",
         "Thur",
         "Lunch",
         4
        ],
        [
         13.03,
         2.0,
         "Male",
         "No",
         "Thur",
         "Lunch",
         2
        ],
        [
         18.28,
         4.0,
         "Male",
         "No",
         "Thur",
         "Lunch",
         2
        ],
        [
         24.71,
         5.85,
         "Male",
         "No",
         "Thur",
         "Lunch",
         2
        ],
        [
         21.16,
         3.0,
         "Male",
         "No",
         "Thur",
         "Lunch",
         2
        ],
        [
         28.97,
         3.0,
         "Male",
         "Yes",
         "Fri",
         "Dinner",
         2
        ],
        [
         22.49,
         3.5,
         "Male",
         "No",
         "Fri",
         "Dinner",
         2
        ],
        [
         5.75,
         1.0,
         "Female",
         "Yes",
         "Fri",
         "Dinner",
         2
        ],
        [
         16.32,
         4.3,
         "Female",
         "Yes",
         "Fri",
         "Dinner",
         2
        ],
        [
         22.75,
         3.25,
         "Female",
         "No",
         "Fri",
         "Dinner",
         2
        ],
        [
         40.17,
         4.73,
         "Male",
         "Yes",
         "Fri",
         "Dinner",
         4
        ],
        [
         27.28,
         4.0,
         "Male",
         "Yes",
         "Fri",
         "Dinner",
         2
        ],
        [
         12.03,
         1.5,
         "Male",
         "Yes",
         "Fri",
         "Dinner",
         2
        ],
        [
         21.01,
         3.0,
         "Male",
         "Yes",
         "Fri",
         "Dinner",
         2
        ],
        [
         12.46,
         1.5,
         "Male",
         "No",
         "Fri",
         "Dinner",
         2
        ],
        [
         11.35,
         2.5,
         "Female",
         "Yes",
         "Fri",
         "Dinner",
         2
        ],
        [
         15.38,
         3.0,
         "Female",
         "Yes",
         "Fri",
         "Dinner",
         2
        ],
        [
         44.3,
         2.5,
         "Female",
         "Yes",
         "Sat",
         "Dinner",
         3
        ],
        [
         22.42,
         3.48,
         "Female",
         "Yes",
         "Sat",
         "Dinner",
         2
        ],
        [
         20.92,
         4.08,
         "Female",
         "No",
         "Sat",
         "Dinner",
         2
        ],
        [
         15.36,
         1.64,
         "Male",
         "Yes",
         "Sat",
         "Dinner",
         2
        ],
        [
         20.49,
         4.06,
         "Male",
         "Yes",
         "Sat",
         "Dinner",
         2
        ],
        [
         25.21,
         4.29,
         "Male",
         "Yes",
         "Sat",
         "Dinner",
         2
        ],
        [
         18.24,
         3.76,
         "Male",
         "No",
         "Sat",
         "Dinner",
         2
        ],
        [
         14.31,
         4.0,
         "Female",
         "Yes",
         "Sat",
         "Dinner",
         2
        ],
        [
         14.0,
         3.0,
         "Male",
         "No",
         "Sat",
         "Dinner",
         2
        ],
        [
         7.25,
         1.0,
         "Female",
         "No",
         "Sat",
         "Dinner",
         1
        ],
        [
         38.07,
         4.0,
         "Male",
         "No",
         "Sun",
         "Dinner",
         3
        ],
        [
         23.95,
         2.55,
         "Male",
         "No",
         "Sun",
         "Dinner",
         2
        ],
        [
         25.71,
         4.0,
         "Female",
         "No",
         "Sun",
         "Dinner",
         3
        ],
        [
         17.31,
         3.5,
         "Female",
         "No",
         "Sun",
         "Dinner",
         2
        ],
        [
         29.93,
         5.07,
         "Male",
         "No",
         "Sun",
         "Dinner",
         4
        ],
        [
         10.65,
         1.5,
         "Female",
         "No",
         "Thur",
         "Lunch",
         2
        ],
        [
         12.43,
         1.8,
         "Female",
         "No",
         "Thur",
         "Lunch",
         2
        ],
        [
         24.08,
         2.92,
         "Female",
         "No",
         "Thur",
         "Lunch",
         4
        ],
        [
         11.69,
         2.31,
         "Male",
         "No",
         "Thur",
         "Lunch",
         2
        ],
        [
         13.42,
         1.68,
         "Female",
         "No",
         "Thur",
         "Lunch",
         2
        ],
        [
         14.26,
         2.5,
         "Male",
         "No",
         "Thur",
         "Lunch",
         2
        ],
        [
         15.95,
         2.0,
         "Male",
         "No",
         "Thur",
         "Lunch",
         2
        ],
        [
         12.48,
         2.52,
         "Female",
         "No",
         "Thur",
         "Lunch",
         2
        ],
        [
         29.8,
         4.2,
         "Female",
         "No",
         "Thur",
         "Lunch",
         6
        ],
        [
         8.52,
         1.48,
         "Male",
         "No",
         "Thur",
         "Lunch",
         2
        ],
        [
         14.52,
         2.0,
         "Female",
         "No",
         "Thur",
         "Lunch",
         2
        ],
        [
         11.38,
         2.0,
         "Female",
         "No",
         "Thur",
         "Lunch",
         2
        ],
        [
         22.82,
         2.18,
         "Male",
         "No",
         "Thur",
         "Lunch",
         3
        ],
        [
         19.08,
         1.5,
         "Male",
         "No",
         "Thur",
         "Lunch",
         2
        ],
        [
         20.27,
         2.83,
         "Female",
         "No",
         "Thur",
         "Lunch",
         2
        ],
        [
         11.17,
         1.5,
         "Female",
         "No",
         "Thur",
         "Lunch",
         2
        ],
        [
         12.26,
         2.0,
         "Female",
         "No",
         "Thur",
         "Lunch",
         2
        ],
        [
         18.26,
         3.25,
         "Female",
         "No",
         "Thur",
         "Lunch",
         2
        ],
        [
         8.51,
         1.25,
         "Female",
         "No",
         "Thur",
         "Lunch",
         2
        ],
        [
         10.33,
         2.0,
         "Female",
         "No",
         "Thur",
         "Lunch",
         2
        ],
        [
         14.15,
         2.0,
         "Female",
         "No",
         "Thur",
         "Lunch",
         2
        ],
        [
         16.0,
         2.0,
         "Male",
         "Yes",
         "Thur",
         "Lunch",
         2
        ],
        [
         13.16,
         2.75,
         "Female",
         "No",
         "Thur",
         "Lunch",
         2
        ],
        [
         17.47,
         3.5,
         "Female",
         "No",
         "Thur",
         "Lunch",
         2
        ],
        [
         34.3,
         6.7,
         "Male",
         "No",
         "Thur",
         "Lunch",
         6
        ],
        [
         41.19,
         5.0,
         "Male",
         "No",
         "Thur",
         "Lunch",
         5
        ],
        [
         27.05,
         5.0,
         "Female",
         "No",
         "Thur",
         "Lunch",
         6
        ],
        [
         16.43,
         2.3,
         "Female",
         "No",
         "Thur",
         "Lunch",
         2
        ],
        [
         8.35,
         1.5,
         "Female",
         "No",
         "Thur",
         "Lunch",
         2
        ],
        [
         18.64,
         1.36,
         "Female",
         "No",
         "Thur",
         "Lunch",
         3
        ],
        [
         11.87,
         1.63,
         "Female",
         "No",
         "Thur",
         "Lunch",
         2
        ],
        [
         9.78,
         1.73,
         "Male",
         "No",
         "Thur",
         "Lunch",
         2
        ],
        [
         7.51,
         2.0,
         "Male",
         "No",
         "Thur",
         "Lunch",
         2
        ],
        [
         14.07,
         2.5,
         "Male",
         "No",
         "Sun",
         "Dinner",
         2
        ],
        [
         13.13,
         2.0,
         "Male",
         "No",
         "Sun",
         "Dinner",
         2
        ],
        [
         17.26,
         2.74,
         "Male",
         "No",
         "Sun",
         "Dinner",
         3
        ],
        [
         24.55,
         2.0,
         "Male",
         "No",
         "Sun",
         "Dinner",
         4
        ],
        [
         19.77,
         2.0,
         "Male",
         "No",
         "Sun",
         "Dinner",
         4
        ],
        [
         29.85,
         5.14,
         "Female",
         "No",
         "Sun",
         "Dinner",
         5
        ],
        [
         48.17,
         5.0,
         "Male",
         "No",
         "Sun",
         "Dinner",
         6
        ],
        [
         25.0,
         3.75,
         "Female",
         "No",
         "Sun",
         "Dinner",
         4
        ],
        [
         13.39,
         2.61,
         "Female",
         "No",
         "Sun",
         "Dinner",
         2
        ],
        [
         16.49,
         2.0,
         "Male",
         "No",
         "Sun",
         "Dinner",
         4
        ],
        [
         21.5,
         3.5,
         "Male",
         "No",
         "Sun",
         "Dinner",
         4
        ],
        [
         12.66,
         2.5,
         "Male",
         "No",
         "Sun",
         "Dinner",
         2
        ],
        [
         16.21,
         2.0,
         "Female",
         "No",
         "Sun",
         "Dinner",
         3
        ],
        [
         13.81,
         2.0,
         "Male",
         "No",
         "Sun",
         "Dinner",
         2
        ],
        [
         17.51,
         3.0,
         "Female",
         "Yes",
         "Sun",
         "Dinner",
         2
        ],
        [
         24.52,
         3.48,
         "Male",
         "No",
         "Sun",
         "Dinner",
         3
        ],
        [
         20.76,
         2.24,
         "Male",
         "No",
         "Sun",
         "Dinner",
         2
        ],
        [
         31.71,
         4.5,
         "Male",
         "No",
         "Sun",
         "Dinner",
         4
        ],
        [
         10.59,
         1.61,
         "Female",
         "Yes",
         "Sat",
         "Dinner",
         2
        ],
        [
         10.63,
         2.0,
         "Female",
         "Yes",
         "Sat",
         "Dinner",
         2
        ],
        [
         50.81,
         10.0,
         "Male",
         "Yes",
         "Sat",
         "Dinner",
         3
        ],
        [
         15.81,
         3.16,
         "Male",
         "Yes",
         "Sat",
         "Dinner",
         2
        ],
        [
         7.25,
         5.15,
         "Male",
         "Yes",
         "Sun",
         "Dinner",
         2
        ],
        [
         31.85,
         3.18,
         "Male",
         "Yes",
         "Sun",
         "Dinner",
         2
        ],
        [
         16.82,
         4.0,
         "Male",
         "Yes",
         "Sun",
         "Dinner",
         2
        ],
        [
         32.9,
         3.11,
         "Male",
         "Yes",
         "Sun",
         "Dinner",
         2
        ],
        [
         17.89,
         2.0,
         "Male",
         "Yes",
         "Sun",
         "Dinner",
         2
        ],
        [
         14.48,
         2.0,
         "Male",
         "Yes",
         "Sun",
         "Dinner",
         2
        ],
        [
         9.6,
         4.0,
         "Female",
         "Yes",
         "Sun",
         "Dinner",
         2
        ],
        [
         34.63,
         3.55,
         "Male",
         "Yes",
         "Sun",
         "Dinner",
         2
        ],
        [
         34.65,
         3.68,
         "Male",
         "Yes",
         "Sun",
         "Dinner",
         4
        ],
        [
         23.33,
         5.65,
         "Male",
         "Yes",
         "Sun",
         "Dinner",
         2
        ],
        [
         45.35,
         3.5,
         "Male",
         "Yes",
         "Sun",
         "Dinner",
         3
        ],
        [
         23.17,
         6.5,
         "Male",
         "Yes",
         "Sun",
         "Dinner",
         4
        ],
        [
         40.55,
         3.0,
         "Male",
         "Yes",
         "Sun",
         "Dinner",
         2
        ],
        [
         20.69,
         5.0,
         "Male",
         "No",
         "Sun",
         "Dinner",
         5
        ],
        [
         20.9,
         3.5,
         "Female",
         "Yes",
         "Sun",
         "Dinner",
         3
        ],
        [
         30.46,
         2.0,
         "Male",
         "Yes",
         "Sun",
         "Dinner",
         5
        ],
        [
         18.15,
         3.5,
         "Female",
         "Yes",
         "Sun",
         "Dinner",
         3
        ],
        [
         23.1,
         4.0,
         "Male",
         "Yes",
         "Sun",
         "Dinner",
         3
        ],
        [
         15.69,
         1.5,
         "Male",
         "Yes",
         "Sun",
         "Dinner",
         2
        ],
        [
         19.81,
         4.19,
         "Female",
         "Yes",
         "Thur",
         "Lunch",
         2
        ],
        [
         28.44,
         2.56,
         "Male",
         "Yes",
         "Thur",
         "Lunch",
         2
        ],
        [
         15.48,
         2.02,
         "Male",
         "Yes",
         "Thur",
         "Lunch",
         2
        ],
        [
         16.58,
         4.0,
         "Male",
         "Yes",
         "Thur",
         "Lunch",
         2
        ],
        [
         7.56,
         1.44,
         "Male",
         "No",
         "Thur",
         "Lunch",
         2
        ],
        [
         10.34,
         2.0,
         "Male",
         "Yes",
         "Thur",
         "Lunch",
         2
        ],
        [
         43.11,
         5.0,
         "Female",
         "Yes",
         "Thur",
         "Lunch",
         4
        ],
        [
         13.0,
         2.0,
         "Female",
         "Yes",
         "Thur",
         "Lunch",
         2
        ],
        [
         13.51,
         2.0,
         "Male",
         "Yes",
         "Thur",
         "Lunch",
         2
        ],
        [
         18.71,
         4.0,
         "Male",
         "Yes",
         "Thur",
         "Lunch",
         3
        ],
        [
         12.74,
         2.01,
         "Female",
         "Yes",
         "Thur",
         "Lunch",
         2
        ],
        [
         13.0,
         2.0,
         "Female",
         "Yes",
         "Thur",
         "Lunch",
         2
        ],
        [
         16.4,
         2.5,
         "Female",
         "Yes",
         "Thur",
         "Lunch",
         2
        ],
        [
         20.53,
         4.0,
         "Male",
         "Yes",
         "Thur",
         "Lunch",
         4
        ],
        [
         16.47,
         3.23,
         "Female",
         "Yes",
         "Thur",
         "Lunch",
         3
        ],
        [
         26.59,
         3.41,
         "Male",
         "Yes",
         "Sat",
         "Dinner",
         3
        ],
        [
         38.73,
         3.0,
         "Male",
         "Yes",
         "Sat",
         "Dinner",
         4
        ],
        [
         24.27,
         2.03,
         "Male",
         "Yes",
         "Sat",
         "Dinner",
         2
        ],
        [
         12.76,
         2.23,
         "Female",
         "Yes",
         "Sat",
         "Dinner",
         2
        ],
        [
         30.06,
         2.0,
         "Male",
         "Yes",
         "Sat",
         "Dinner",
         3
        ],
        [
         25.89,
         5.16,
         "Male",
         "Yes",
         "Sat",
         "Dinner",
         4
        ],
        [
         48.33,
         9.0,
         "Male",
         "No",
         "Sat",
         "Dinner",
         4
        ],
        [
         13.27,
         2.5,
         "Female",
         "Yes",
         "Sat",
         "Dinner",
         2
        ],
        [
         28.17,
         6.5,
         "Female",
         "Yes",
         "Sat",
         "Dinner",
         3
        ],
        [
         12.9,
         1.1,
         "Female",
         "Yes",
         "Sat",
         "Dinner",
         2
        ],
        [
         28.15,
         3.0,
         "Male",
         "Yes",
         "Sat",
         "Dinner",
         5
        ],
        [
         11.59,
         1.5,
         "Male",
         "Yes",
         "Sat",
         "Dinner",
         2
        ],
        [
         7.74,
         1.44,
         "Male",
         "Yes",
         "Sat",
         "Dinner",
         2
        ],
        [
         30.14,
         3.09,
         "Female",
         "Yes",
         "Sat",
         "Dinner",
         4
        ],
        [
         12.16,
         2.2,
         "Male",
         "Yes",
         "Fri",
         "Lunch",
         2
        ],
        [
         13.42,
         3.48,
         "Female",
         "Yes",
         "Fri",
         "Lunch",
         2
        ],
        [
         8.58,
         1.92,
         "Male",
         "Yes",
         "Fri",
         "Lunch",
         1
        ],
        [
         15.98,
         3.0,
         "Female",
         "No",
         "Fri",
         "Lunch",
         3
        ],
        [
         13.42,
         1.58,
         "Male",
         "Yes",
         "Fri",
         "Lunch",
         2
        ],
        [
         16.27,
         2.5,
         "Female",
         "Yes",
         "Fri",
         "Lunch",
         2
        ],
        [
         10.09,
         2.0,
         "Female",
         "Yes",
         "Fri",
         "Lunch",
         2
        ],
        [
         20.45,
         3.0,
         "Male",
         "No",
         "Sat",
         "Dinner",
         4
        ],
        [
         13.28,
         2.72,
         "Male",
         "No",
         "Sat",
         "Dinner",
         2
        ],
        [
         22.12,
         2.88,
         "Female",
         "Yes",
         "Sat",
         "Dinner",
         2
        ],
        [
         24.01,
         2.0,
         "Male",
         "Yes",
         "Sat",
         "Dinner",
         4
        ],
        [
         15.69,
         3.0,
         "Male",
         "Yes",
         "Sat",
         "Dinner",
         3
        ],
        [
         11.61,
         3.39,
         "Male",
         "No",
         "Sat",
         "Dinner",
         2
        ],
        [
         10.77,
         1.47,
         "Male",
         "No",
         "Sat",
         "Dinner",
         2
        ],
        [
         15.53,
         3.0,
         "Male",
         "Yes",
         "Sat",
         "Dinner",
         2
        ],
        [
         10.07,
         1.25,
         "Male",
         "No",
         "Sat",
         "Dinner",
         2
        ],
        [
         12.6,
         1.0,
         "Male",
         "Yes",
         "Sat",
         "Dinner",
         2
        ],
        [
         32.83,
         1.17,
         "Male",
         "Yes",
         "Sat",
         "Dinner",
         2
        ],
        [
         35.83,
         4.67,
         "Female",
         "No",
         "Sat",
         "Dinner",
         3
        ],
        [
         29.03,
         5.92,
         "Male",
         "No",
         "Sat",
         "Dinner",
         3
        ],
        [
         27.18,
         2.0,
         "Female",
         "Yes",
         "Sat",
         "Dinner",
         2
        ],
        [
         22.67,
         2.0,
         "Male",
         "Yes",
         "Sat",
         "Dinner",
         2
        ],
        [
         17.82,
         1.75,
         "Male",
         "No",
         "Sat",
         "Dinner",
         2
        ],
        [
         18.78,
         3.0,
         "Female",
         "No",
         "Thur",
         "Dinner",
         2
        ]
       ],
       "datasetInfos": [],
       "dbfsResultPath": null,
       "isJsonSchema": true,
       "metadata": {},
       "overflow": false,
       "plotOptions": {
        "customPlotOptions": {},
        "displayType": "table",
        "pivotAggregation": null,
        "pivotColumns": null,
        "xColumns": null,
        "yColumns": null
       },
       "removedWidgets": [],
       "schema": [
        {
         "metadata": "{}",
         "name": "total_bill",
         "type": "\"double\""
        },
        {
         "metadata": "{}",
         "name": "tip",
         "type": "\"double\""
        },
        {
         "metadata": "{}",
         "name": "sex",
         "type": "\"string\""
        },
        {
         "metadata": "{}",
         "name": "smoker",
         "type": "\"string\""
        },
        {
         "metadata": "{}",
         "name": "day",
         "type": "\"string\""
        },
        {
         "metadata": "{}",
         "name": "time",
         "type": "\"string\""
        },
        {
         "metadata": "{}",
         "name": "size",
         "type": "\"integer\""
        }
       ],
       "type": "table"
      }
     },
     "output_type": "display_data"
    }
   ],
   "source": [
    "file_location=\"/FileStore/tables/tips-2.csv\"\n",
    "df=spark.read.csv(file_location,header=True,inferSchema=True)\n",
    "display(df)\n"
   ]
  },
  {
   "cell_type": "code",
   "execution_count": 0,
   "metadata": {
    "application/vnd.databricks.v1+cell": {
     "cellMetadata": {
      "byteLimit": 2048000,
      "rowLimit": 10000
     },
     "inputWidgets": {},
     "nuid": "a0927a17-bfd5-460f-bec1-399346236d2a",
     "showTitle": true,
     "title": "handling categorical features"
    }
   },
   "outputs": [
    {
     "output_type": "stream",
     "name": "stdout",
     "output_type": "stream",
     "text": [
      "+----------+----+------+------+---+------+----+-----------+--------+---------+-----------+\n|total_bill| tip|   sex|smoker|day|  time|size|sex_indexed|dayindex|timeindex|smokerindex|\n+----------+----+------+------+---+------+----+-----------+--------+---------+-----------+\n|     16.99|1.01|Female|    No|Sun|Dinner|   2|        1.0|     1.0|      0.0|        0.0|\n|     10.34|1.66|  Male|    No|Sun|Dinner|   3|        0.0|     1.0|      0.0|        0.0|\n|     21.01| 3.5|  Male|    No|Sun|Dinner|   3|        0.0|     1.0|      0.0|        0.0|\n|     23.68|3.31|  Male|    No|Sun|Dinner|   2|        0.0|     1.0|      0.0|        0.0|\n|     24.59|3.61|Female|    No|Sun|Dinner|   4|        1.0|     1.0|      0.0|        0.0|\n|     25.29|4.71|  Male|    No|Sun|Dinner|   4|        0.0|     1.0|      0.0|        0.0|\n|      8.77| 2.0|  Male|    No|Sun|Dinner|   2|        0.0|     1.0|      0.0|        0.0|\n|     26.88|3.12|  Male|    No|Sun|Dinner|   4|        0.0|     1.0|      0.0|        0.0|\n|     15.04|1.96|  Male|    No|Sun|Dinner|   2|        0.0|     1.0|      0.0|        0.0|\n|     14.78|3.23|  Male|    No|Sun|Dinner|   2|        0.0|     1.0|      0.0|        0.0|\n|     10.27|1.71|  Male|    No|Sun|Dinner|   2|        0.0|     1.0|      0.0|        0.0|\n|     35.26| 5.0|Female|    No|Sun|Dinner|   4|        1.0|     1.0|      0.0|        0.0|\n|     15.42|1.57|  Male|    No|Sun|Dinner|   2|        0.0|     1.0|      0.0|        0.0|\n|     18.43| 3.0|  Male|    No|Sun|Dinner|   4|        0.0|     1.0|      0.0|        0.0|\n|     14.83|3.02|Female|    No|Sun|Dinner|   2|        1.0|     1.0|      0.0|        0.0|\n|     21.58|3.92|  Male|    No|Sun|Dinner|   2|        0.0|     1.0|      0.0|        0.0|\n|     10.33|1.67|Female|    No|Sun|Dinner|   3|        1.0|     1.0|      0.0|        0.0|\n|     16.29|3.71|  Male|    No|Sun|Dinner|   3|        0.0|     1.0|      0.0|        0.0|\n|     16.97| 3.5|Female|    No|Sun|Dinner|   3|        1.0|     1.0|      0.0|        0.0|\n|     20.65|3.35|  Male|    No|Sat|Dinner|   3|        0.0|     0.0|      0.0|        0.0|\n+----------+----+------+------+---+------+----+-----------+--------+---------+-----------+\nonly showing top 20 rows\n\n"
     ]
    }
   ],
   "source": [
    "from pyspark.ml.feature import StringIndexer\n",
    "\n",
    "index=StringIndexer(inputCols=[\"sex\",\"day\",\"time\",\"smoker\"],outputCols=[\"sex_indexed\",\"dayindex\",\"timeindex\",\"smokerindex\"])\n",
    "df_r=index.fit(df).transform(df)\n",
    "\n",
    "df_r.show()"
   ]
  },
  {
   "cell_type": "code",
   "execution_count": 0,
   "metadata": {
    "application/vnd.databricks.v1+cell": {
     "cellMetadata": {
      "byteLimit": 2048000,
      "rowLimit": 10000
     },
     "inputWidgets": {},
     "nuid": "83cd4012-f54e-4efc-9afa-d21b8b8698b7",
     "showTitle": false,
     "title": ""
    }
   },
   "outputs": [
    {
     "output_type": "stream",
     "name": "stdout",
     "output_type": "stream",
     "text": [
      "+----------+----+------+------+---+------+----+-----------+--------+---------+-----------+--------------------+\n|total_bill| tip|   sex|smoker|day|  time|size|sex_indexed|dayindex|timeindex|smokerindex|Independent Features|\n+----------+----+------+------+---+------+----+-----------+--------+---------+-----------+--------------------+\n|     16.99|1.01|Female|    No|Sun|Dinner|   2|        1.0|     1.0|      0.0|        0.0|[1.01,2.0,1.0,1.0...|\n|     10.34|1.66|  Male|    No|Sun|Dinner|   3|        0.0|     1.0|      0.0|        0.0|[1.66,3.0,0.0,1.0...|\n|     21.01| 3.5|  Male|    No|Sun|Dinner|   3|        0.0|     1.0|      0.0|        0.0|[3.5,3.0,0.0,1.0,...|\n|     23.68|3.31|  Male|    No|Sun|Dinner|   2|        0.0|     1.0|      0.0|        0.0|[3.31,2.0,0.0,1.0...|\n|     24.59|3.61|Female|    No|Sun|Dinner|   4|        1.0|     1.0|      0.0|        0.0|[3.61,4.0,1.0,1.0...|\n|     25.29|4.71|  Male|    No|Sun|Dinner|   4|        0.0|     1.0|      0.0|        0.0|[4.71,4.0,0.0,1.0...|\n|      8.77| 2.0|  Male|    No|Sun|Dinner|   2|        0.0|     1.0|      0.0|        0.0|[2.0,2.0,0.0,1.0,...|\n|     26.88|3.12|  Male|    No|Sun|Dinner|   4|        0.0|     1.0|      0.0|        0.0|[3.12,4.0,0.0,1.0...|\n|     15.04|1.96|  Male|    No|Sun|Dinner|   2|        0.0|     1.0|      0.0|        0.0|[1.96,2.0,0.0,1.0...|\n|     14.78|3.23|  Male|    No|Sun|Dinner|   2|        0.0|     1.0|      0.0|        0.0|[3.23,2.0,0.0,1.0...|\n|     10.27|1.71|  Male|    No|Sun|Dinner|   2|        0.0|     1.0|      0.0|        0.0|[1.71,2.0,0.0,1.0...|\n|     35.26| 5.0|Female|    No|Sun|Dinner|   4|        1.0|     1.0|      0.0|        0.0|[5.0,4.0,1.0,1.0,...|\n|     15.42|1.57|  Male|    No|Sun|Dinner|   2|        0.0|     1.0|      0.0|        0.0|[1.57,2.0,0.0,1.0...|\n|     18.43| 3.0|  Male|    No|Sun|Dinner|   4|        0.0|     1.0|      0.0|        0.0|[3.0,4.0,0.0,1.0,...|\n|     14.83|3.02|Female|    No|Sun|Dinner|   2|        1.0|     1.0|      0.0|        0.0|[3.02,2.0,1.0,1.0...|\n|     21.58|3.92|  Male|    No|Sun|Dinner|   2|        0.0|     1.0|      0.0|        0.0|[3.92,2.0,0.0,1.0...|\n|     10.33|1.67|Female|    No|Sun|Dinner|   3|        1.0|     1.0|      0.0|        0.0|[1.67,3.0,1.0,1.0...|\n|     16.29|3.71|  Male|    No|Sun|Dinner|   3|        0.0|     1.0|      0.0|        0.0|[3.71,3.0,0.0,1.0...|\n|     16.97| 3.5|Female|    No|Sun|Dinner|   3|        1.0|     1.0|      0.0|        0.0|[3.5,3.0,1.0,1.0,...|\n|     20.65|3.35|  Male|    No|Sat|Dinner|   3|        0.0|     0.0|      0.0|        0.0|(6,[0,1],[3.35,3.0])|\n+----------+----+------+------+---+------+----+-----------+--------+---------+-----------+--------------------+\nonly showing top 20 rows\n\n"
     ]
    }
   ],
   "source": [
    "from pyspark.ml.feature import VectorAssembler\n",
    "\n",
    "feature_assembler=VectorAssembler(inputCols=['tip','size','sex_indexed','dayindex','timeindex','smokerindex'],outputCol=\"Independent Features\")\n",
    "out=feature_assembler.transform(df_r)\n",
    "out.show()"
   ]
  },
  {
   "cell_type": "code",
   "execution_count": 0,
   "metadata": {
    "application/vnd.databricks.v1+cell": {
     "cellMetadata": {
      "byteLimit": 2048000,
      "rowLimit": 10000
     },
     "inputWidgets": {},
     "nuid": "fc9d72ae-f115-4521-9fef-551795032c5b",
     "showTitle": false,
     "title": ""
    }
   },
   "outputs": [
    {
     "output_type": "display_data",
     "data": {
      "text/html": [
       "<style scoped>\n",
       "  .table-result-container {\n",
       "    max-height: 300px;\n",
       "    overflow: auto;\n",
       "  }\n",
       "  table, th, td {\n",
       "    border: 1px solid black;\n",
       "    border-collapse: collapse;\n",
       "  }\n",
       "  th, td {\n",
       "    padding: 5px;\n",
       "  }\n",
       "  th {\n",
       "    text-align: left;\n",
       "  }\n",
       "</style><div class='table-result-container'><table class='table-result'><thead style='background-color: white'><tr><th>Independent Features</th><th>total_bill</th></tr></thead><tbody><tr><td>Map(vectorType -> dense, length -> 6, values -> List(1.01, 2.0, 1.0, 1.0, 0.0, 0.0))</td><td>16.99</td></tr><tr><td>Map(vectorType -> dense, length -> 6, values -> List(1.66, 3.0, 0.0, 1.0, 0.0, 0.0))</td><td>10.34</td></tr><tr><td>Map(vectorType -> dense, length -> 6, values -> List(3.5, 3.0, 0.0, 1.0, 0.0, 0.0))</td><td>21.01</td></tr><tr><td>Map(vectorType -> dense, length -> 6, values -> List(3.31, 2.0, 0.0, 1.0, 0.0, 0.0))</td><td>23.68</td></tr><tr><td>Map(vectorType -> dense, length -> 6, values -> List(3.61, 4.0, 1.0, 1.0, 0.0, 0.0))</td><td>24.59</td></tr><tr><td>Map(vectorType -> dense, length -> 6, values -> List(4.71, 4.0, 0.0, 1.0, 0.0, 0.0))</td><td>25.29</td></tr><tr><td>Map(vectorType -> dense, length -> 6, values -> List(2.0, 2.0, 0.0, 1.0, 0.0, 0.0))</td><td>8.77</td></tr><tr><td>Map(vectorType -> dense, length -> 6, values -> List(3.12, 4.0, 0.0, 1.0, 0.0, 0.0))</td><td>26.88</td></tr><tr><td>Map(vectorType -> dense, length -> 6, values -> List(1.96, 2.0, 0.0, 1.0, 0.0, 0.0))</td><td>15.04</td></tr><tr><td>Map(vectorType -> dense, length -> 6, values -> List(3.23, 2.0, 0.0, 1.0, 0.0, 0.0))</td><td>14.78</td></tr><tr><td>Map(vectorType -> dense, length -> 6, values -> List(1.71, 2.0, 0.0, 1.0, 0.0, 0.0))</td><td>10.27</td></tr><tr><td>Map(vectorType -> dense, length -> 6, values -> List(5.0, 4.0, 1.0, 1.0, 0.0, 0.0))</td><td>35.26</td></tr><tr><td>Map(vectorType -> dense, length -> 6, values -> List(1.57, 2.0, 0.0, 1.0, 0.0, 0.0))</td><td>15.42</td></tr><tr><td>Map(vectorType -> dense, length -> 6, values -> List(3.0, 4.0, 0.0, 1.0, 0.0, 0.0))</td><td>18.43</td></tr><tr><td>Map(vectorType -> dense, length -> 6, values -> List(3.02, 2.0, 1.0, 1.0, 0.0, 0.0))</td><td>14.83</td></tr><tr><td>Map(vectorType -> dense, length -> 6, values -> List(3.92, 2.0, 0.0, 1.0, 0.0, 0.0))</td><td>21.58</td></tr><tr><td>Map(vectorType -> dense, length -> 6, values -> List(1.67, 3.0, 1.0, 1.0, 0.0, 0.0))</td><td>10.33</td></tr><tr><td>Map(vectorType -> dense, length -> 6, values -> List(3.71, 3.0, 0.0, 1.0, 0.0, 0.0))</td><td>16.29</td></tr><tr><td>Map(vectorType -> dense, length -> 6, values -> List(3.5, 3.0, 1.0, 1.0, 0.0, 0.0))</td><td>16.97</td></tr><tr><td>Map(vectorType -> sparse, length -> 6, indices -> List(0, 1), values -> List(3.35, 3.0))</td><td>20.65</td></tr><tr><td>Map(vectorType -> sparse, length -> 6, indices -> List(0, 1), values -> List(4.08, 2.0))</td><td>17.92</td></tr><tr><td>Map(vectorType -> dense, length -> 6, values -> List(2.75, 2.0, 1.0, 0.0, 0.0, 0.0))</td><td>20.29</td></tr><tr><td>Map(vectorType -> dense, length -> 6, values -> List(2.23, 2.0, 1.0, 0.0, 0.0, 0.0))</td><td>15.77</td></tr><tr><td>Map(vectorType -> sparse, length -> 6, indices -> List(0, 1), values -> List(7.58, 4.0))</td><td>39.42</td></tr><tr><td>Map(vectorType -> sparse, length -> 6, indices -> List(0, 1), values -> List(3.18, 2.0))</td><td>19.82</td></tr><tr><td>Map(vectorType -> sparse, length -> 6, indices -> List(0, 1), values -> List(2.34, 4.0))</td><td>17.81</td></tr><tr><td>Map(vectorType -> sparse, length -> 6, indices -> List(0, 1), values -> List(2.0, 2.0))</td><td>13.37</td></tr><tr><td>Map(vectorType -> sparse, length -> 6, indices -> List(0, 1), values -> List(2.0, 2.0))</td><td>12.69</td></tr><tr><td>Map(vectorType -> sparse, length -> 6, indices -> List(0, 1), values -> List(4.3, 2.0))</td><td>21.7</td></tr><tr><td>Map(vectorType -> dense, length -> 6, values -> List(3.0, 2.0, 1.0, 0.0, 0.0, 0.0))</td><td>19.65</td></tr><tr><td>Map(vectorType -> sparse, length -> 6, indices -> List(0, 1), values -> List(1.45, 2.0))</td><td>9.55</td></tr><tr><td>Map(vectorType -> sparse, length -> 6, indices -> List(0, 1), values -> List(2.5, 4.0))</td><td>18.35</td></tr><tr><td>Map(vectorType -> dense, length -> 6, values -> List(3.0, 2.0, 1.0, 0.0, 0.0, 0.0))</td><td>15.06</td></tr><tr><td>Map(vectorType -> dense, length -> 6, values -> List(2.45, 4.0, 1.0, 0.0, 0.0, 0.0))</td><td>20.69</td></tr><tr><td>Map(vectorType -> sparse, length -> 6, indices -> List(0, 1), values -> List(3.27, 2.0))</td><td>17.78</td></tr><tr><td>Map(vectorType -> sparse, length -> 6, indices -> List(0, 1), values -> List(3.6, 3.0))</td><td>24.06</td></tr><tr><td>Map(vectorType -> sparse, length -> 6, indices -> List(0, 1), values -> List(2.0, 3.0))</td><td>16.31</td></tr><tr><td>Map(vectorType -> dense, length -> 6, values -> List(3.07, 3.0, 1.0, 0.0, 0.0, 0.0))</td><td>16.93</td></tr><tr><td>Map(vectorType -> sparse, length -> 6, indices -> List(0, 1), values -> List(2.31, 3.0))</td><td>18.69</td></tr><tr><td>Map(vectorType -> sparse, length -> 6, indices -> List(0, 1), values -> List(5.0, 3.0))</td><td>31.27</td></tr><tr><td>Map(vectorType -> sparse, length -> 6, indices -> List(0, 1), values -> List(2.24, 3.0))</td><td>16.04</td></tr><tr><td>Map(vectorType -> dense, length -> 6, values -> List(2.54, 2.0, 0.0, 1.0, 0.0, 0.0))</td><td>17.46</td></tr><tr><td>Map(vectorType -> dense, length -> 6, values -> List(3.06, 2.0, 0.0, 1.0, 0.0, 0.0))</td><td>13.94</td></tr><tr><td>Map(vectorType -> dense, length -> 6, values -> List(1.32, 2.0, 0.0, 1.0, 0.0, 0.0))</td><td>9.68</td></tr><tr><td>Map(vectorType -> dense, length -> 6, values -> List(5.6, 4.0, 0.0, 1.0, 0.0, 0.0))</td><td>30.4</td></tr><tr><td>Map(vectorType -> dense, length -> 6, values -> List(3.0, 2.0, 0.0, 1.0, 0.0, 0.0))</td><td>18.29</td></tr><tr><td>Map(vectorType -> dense, length -> 6, values -> List(5.0, 2.0, 0.0, 1.0, 0.0, 0.0))</td><td>22.23</td></tr><tr><td>Map(vectorType -> dense, length -> 6, values -> List(6.0, 4.0, 0.0, 1.0, 0.0, 0.0))</td><td>32.4</td></tr><tr><td>Map(vectorType -> dense, length -> 6, values -> List(2.05, 3.0, 0.0, 1.0, 0.0, 0.0))</td><td>28.55</td></tr><tr><td>Map(vectorType -> dense, length -> 6, values -> List(3.0, 2.0, 0.0, 1.0, 0.0, 0.0))</td><td>18.04</td></tr><tr><td>Map(vectorType -> dense, length -> 6, values -> List(2.5, 2.0, 0.0, 1.0, 0.0, 0.0))</td><td>12.54</td></tr><tr><td>Map(vectorType -> dense, length -> 6, values -> List(2.6, 2.0, 1.0, 1.0, 0.0, 0.0))</td><td>10.29</td></tr><tr><td>Map(vectorType -> dense, length -> 6, values -> List(5.2, 4.0, 1.0, 1.0, 0.0, 0.0))</td><td>34.81</td></tr><tr><td>Map(vectorType -> dense, length -> 6, values -> List(1.56, 2.0, 0.0, 1.0, 0.0, 0.0))</td><td>9.94</td></tr><tr><td>Map(vectorType -> dense, length -> 6, values -> List(4.34, 4.0, 0.0, 1.0, 0.0, 0.0))</td><td>25.56</td></tr><tr><td>Map(vectorType -> dense, length -> 6, values -> List(3.51, 2.0, 0.0, 1.0, 0.0, 0.0))</td><td>19.49</td></tr><tr><td>Map(vectorType -> dense, length -> 6, values -> List(3.0, 4.0, 0.0, 0.0, 0.0, 1.0))</td><td>38.01</td></tr><tr><td>Map(vectorType -> dense, length -> 6, values -> List(1.5, 2.0, 1.0, 0.0, 0.0, 0.0))</td><td>26.41</td></tr><tr><td>Map(vectorType -> dense, length -> 6, values -> List(1.76, 2.0, 0.0, 0.0, 0.0, 1.0))</td><td>11.24</td></tr><tr><td>Map(vectorType -> sparse, length -> 6, indices -> List(0, 1), values -> List(6.73, 4.0))</td><td>48.27</td></tr><tr><td>Map(vectorType -> dense, length -> 6, values -> List(3.21, 2.0, 0.0, 0.0, 0.0, 1.0))</td><td>20.29</td></tr><tr><td>Map(vectorType -> dense, length -> 6, values -> List(2.0, 2.0, 0.0, 0.0, 0.0, 1.0))</td><td>13.81</td></tr><tr><td>Map(vectorType -> dense, length -> 6, values -> List(1.98, 2.0, 0.0, 0.0, 0.0, 1.0))</td><td>11.02</td></tr><tr><td>Map(vectorType -> dense, length -> 6, values -> List(3.76, 4.0, 0.0, 0.0, 0.0, 1.0))</td><td>18.29</td></tr><tr><td>Map(vectorType -> sparse, length -> 6, indices -> List(0, 1), values -> List(2.64, 3.0))</td><td>17.59</td></tr><tr><td>Map(vectorType -> sparse, length -> 6, indices -> List(0, 1), values -> List(3.15, 3.0))</td><td>20.08</td></tr><tr><td>Map(vectorType -> dense, length -> 6, values -> List(2.47, 2.0, 1.0, 0.0, 0.0, 0.0))</td><td>16.45</td></tr><tr><td>Map(vectorType -> dense, length -> 6, values -> List(1.0, 1.0, 1.0, 0.0, 0.0, 1.0))</td><td>3.07</td></tr><tr><td>Map(vectorType -> sparse, length -> 6, indices -> List(0, 1), values -> List(2.01, 2.0))</td><td>20.23</td></tr><tr><td>Map(vectorType -> dense, length -> 6, values -> List(2.09, 2.0, 0.0, 0.0, 0.0, 1.0))</td><td>15.01</td></tr><tr><td>Map(vectorType -> sparse, length -> 6, indices -> List(0, 1), values -> List(1.97, 2.0))</td><td>12.02</td></tr><tr><td>Map(vectorType -> dense, length -> 6, values -> List(3.0, 3.0, 1.0, 0.0, 0.0, 0.0))</td><td>17.07</td></tr><tr><td>Map(vectorType -> dense, length -> 6, values -> List(3.14, 2.0, 1.0, 0.0, 0.0, 1.0))</td><td>26.86</td></tr><tr><td>Map(vectorType -> dense, length -> 6, values -> List(5.0, 2.0, 1.0, 0.0, 0.0, 1.0))</td><td>25.28</td></tr><tr><td>Map(vectorType -> dense, length -> 6, values -> List(2.2, 2.0, 1.0, 0.0, 0.0, 0.0))</td><td>14.73</td></tr><tr><td>Map(vectorType -> sparse, length -> 6, indices -> List(0, 1), values -> List(1.25, 2.0))</td><td>10.51</td></tr><tr><td>Map(vectorType -> dense, length -> 6, values -> List(3.08, 2.0, 0.0, 0.0, 0.0, 1.0))</td><td>17.92</td></tr><tr><td>Map(vectorType -> dense, length -> 6, values -> List(4.0, 4.0, 0.0, 2.0, 1.0, 0.0))</td><td>27.2</td></tr><tr><td>Map(vectorType -> dense, length -> 6, values -> List(3.0, 2.0, 0.0, 2.0, 1.0, 0.0))</td><td>22.76</td></tr><tr><td>Map(vectorType -> dense, length -> 6, values -> List(2.71, 2.0, 0.0, 2.0, 1.0, 0.0))</td><td>17.29</td></tr><tr><td>Map(vectorType -> dense, length -> 6, values -> List(3.0, 2.0, 0.0, 2.0, 1.0, 1.0))</td><td>19.44</td></tr><tr><td>Map(vectorType -> dense, length -> 6, values -> List(3.4, 2.0, 0.0, 2.0, 1.0, 0.0))</td><td>16.66</td></tr><tr><td>Map(vectorType -> dense, length -> 6, values -> List(1.83, 1.0, 1.0, 2.0, 1.0, 0.0))</td><td>10.07</td></tr><tr><td>Map(vectorType -> dense, length -> 6, values -> List(5.0, 2.0, 0.0, 2.0, 1.0, 1.0))</td><td>32.68</td></tr><tr><td>Map(vectorType -> dense, length -> 6, values -> List(2.03, 2.0, 0.0, 2.0, 1.0, 0.0))</td><td>15.98</td></tr><tr><td>Map(vectorType -> dense, length -> 6, values -> List(5.17, 4.0, 1.0, 2.0, 1.0, 0.0))</td><td>34.83</td></tr><tr><td>Map(vectorType -> dense, length -> 6, values -> List(2.0, 2.0, 0.0, 2.0, 1.0, 0.0))</td><td>13.03</td></tr><tr><td>Map(vectorType -> dense, length -> 6, values -> List(4.0, 2.0, 0.0, 2.0, 1.0, 0.0))</td><td>18.28</td></tr><tr><td>Map(vectorType -> dense, length -> 6, values -> List(5.85, 2.0, 0.0, 2.0, 1.0, 0.0))</td><td>24.71</td></tr><tr><td>Map(vectorType -> dense, length -> 6, values -> List(3.0, 2.0, 0.0, 2.0, 1.0, 0.0))</td><td>21.16</td></tr><tr><td>Map(vectorType -> dense, length -> 6, values -> List(3.0, 2.0, 0.0, 3.0, 0.0, 1.0))</td><td>28.97</td></tr><tr><td>Map(vectorType -> dense, length -> 6, values -> List(3.5, 2.0, 0.0, 3.0, 0.0, 0.0))</td><td>22.49</td></tr><tr><td>Map(vectorType -> dense, length -> 6, values -> List(1.0, 2.0, 1.0, 3.0, 0.0, 1.0))</td><td>5.75</td></tr><tr><td>Map(vectorType -> dense, length -> 6, values -> List(4.3, 2.0, 1.0, 3.0, 0.0, 1.0))</td><td>16.32</td></tr><tr><td>Map(vectorType -> dense, length -> 6, values -> List(3.25, 2.0, 1.0, 3.0, 0.0, 0.0))</td><td>22.75</td></tr><tr><td>Map(vectorType -> dense, length -> 6, values -> List(4.73, 4.0, 0.0, 3.0, 0.0, 1.0))</td><td>40.17</td></tr><tr><td>Map(vectorType -> dense, length -> 6, values -> List(4.0, 2.0, 0.0, 3.0, 0.0, 1.0))</td><td>27.28</td></tr><tr><td>Map(vectorType -> dense, length -> 6, values -> List(1.5, 2.0, 0.0, 3.0, 0.0, 1.0))</td><td>12.03</td></tr><tr><td>Map(vectorType -> dense, length -> 6, values -> List(3.0, 2.0, 0.0, 3.0, 0.0, 1.0))</td><td>21.01</td></tr><tr><td>Map(vectorType -> dense, length -> 6, values -> List(1.5, 2.0, 0.0, 3.0, 0.0, 0.0))</td><td>12.46</td></tr><tr><td>Map(vectorType -> dense, length -> 6, values -> List(2.5, 2.0, 1.0, 3.0, 0.0, 1.0))</td><td>11.35</td></tr><tr><td>Map(vectorType -> dense, length -> 6, values -> List(3.0, 2.0, 1.0, 3.0, 0.0, 1.0))</td><td>15.38</td></tr><tr><td>Map(vectorType -> dense, length -> 6, values -> List(2.5, 3.0, 1.0, 0.0, 0.0, 1.0))</td><td>44.3</td></tr><tr><td>Map(vectorType -> dense, length -> 6, values -> List(3.48, 2.0, 1.0, 0.0, 0.0, 1.0))</td><td>22.42</td></tr><tr><td>Map(vectorType -> dense, length -> 6, values -> List(4.08, 2.0, 1.0, 0.0, 0.0, 0.0))</td><td>20.92</td></tr><tr><td>Map(vectorType -> dense, length -> 6, values -> List(1.64, 2.0, 0.0, 0.0, 0.0, 1.0))</td><td>15.36</td></tr><tr><td>Map(vectorType -> dense, length -> 6, values -> List(4.06, 2.0, 0.0, 0.0, 0.0, 1.0))</td><td>20.49</td></tr><tr><td>Map(vectorType -> dense, length -> 6, values -> List(4.29, 2.0, 0.0, 0.0, 0.0, 1.0))</td><td>25.21</td></tr><tr><td>Map(vectorType -> sparse, length -> 6, indices -> List(0, 1), values -> List(3.76, 2.0))</td><td>18.24</td></tr><tr><td>Map(vectorType -> dense, length -> 6, values -> List(4.0, 2.0, 1.0, 0.0, 0.0, 1.0))</td><td>14.31</td></tr><tr><td>Map(vectorType -> sparse, length -> 6, indices -> List(0, 1), values -> List(3.0, 2.0))</td><td>14.0</td></tr><tr><td>Map(vectorType -> dense, length -> 6, values -> List(1.0, 1.0, 1.0, 0.0, 0.0, 0.0))</td><td>7.25</td></tr><tr><td>Map(vectorType -> dense, length -> 6, values -> List(4.0, 3.0, 0.0, 1.0, 0.0, 0.0))</td><td>38.07</td></tr><tr><td>Map(vectorType -> dense, length -> 6, values -> List(2.55, 2.0, 0.0, 1.0, 0.0, 0.0))</td><td>23.95</td></tr><tr><td>Map(vectorType -> dense, length -> 6, values -> List(4.0, 3.0, 1.0, 1.0, 0.0, 0.0))</td><td>25.71</td></tr><tr><td>Map(vectorType -> dense, length -> 6, values -> List(3.5, 2.0, 1.0, 1.0, 0.0, 0.0))</td><td>17.31</td></tr><tr><td>Map(vectorType -> dense, length -> 6, values -> List(5.07, 4.0, 0.0, 1.0, 0.0, 0.0))</td><td>29.93</td></tr><tr><td>Map(vectorType -> dense, length -> 6, values -> List(1.5, 2.0, 1.0, 2.0, 1.0, 0.0))</td><td>10.65</td></tr><tr><td>Map(vectorType -> dense, length -> 6, values -> List(1.8, 2.0, 1.0, 2.0, 1.0, 0.0))</td><td>12.43</td></tr><tr><td>Map(vectorType -> dense, length -> 6, values -> List(2.92, 4.0, 1.0, 2.0, 1.0, 0.0))</td><td>24.08</td></tr><tr><td>Map(vectorType -> dense, length -> 6, values -> List(2.31, 2.0, 0.0, 2.0, 1.0, 0.0))</td><td>11.69</td></tr><tr><td>Map(vectorType -> dense, length -> 6, values -> List(1.68, 2.0, 1.0, 2.0, 1.0, 0.0))</td><td>13.42</td></tr><tr><td>Map(vectorType -> dense, length -> 6, values -> List(2.5, 2.0, 0.0, 2.0, 1.0, 0.0))</td><td>14.26</td></tr><tr><td>Map(vectorType -> dense, length -> 6, values -> List(2.0, 2.0, 0.0, 2.0, 1.0, 0.0))</td><td>15.95</td></tr><tr><td>Map(vectorType -> dense, length -> 6, values -> List(2.52, 2.0, 1.0, 2.0, 1.0, 0.0))</td><td>12.48</td></tr><tr><td>Map(vectorType -> dense, length -> 6, values -> List(4.2, 6.0, 1.0, 2.0, 1.0, 0.0))</td><td>29.8</td></tr><tr><td>Map(vectorType -> dense, length -> 6, values -> List(1.48, 2.0, 0.0, 2.0, 1.0, 0.0))</td><td>8.52</td></tr><tr><td>Map(vectorType -> dense, length -> 6, values -> List(2.0, 2.0, 1.0, 2.0, 1.0, 0.0))</td><td>14.52</td></tr><tr><td>Map(vectorType -> dense, length -> 6, values -> List(2.0, 2.0, 1.0, 2.0, 1.0, 0.0))</td><td>11.38</td></tr><tr><td>Map(vectorType -> dense, length -> 6, values -> List(2.18, 3.0, 0.0, 2.0, 1.0, 0.0))</td><td>22.82</td></tr><tr><td>Map(vectorType -> dense, length -> 6, values -> List(1.5, 2.0, 0.0, 2.0, 1.0, 0.0))</td><td>19.08</td></tr><tr><td>Map(vectorType -> dense, length -> 6, values -> List(2.83, 2.0, 1.0, 2.0, 1.0, 0.0))</td><td>20.27</td></tr><tr><td>Map(vectorType -> dense, length -> 6, values -> List(1.5, 2.0, 1.0, 2.0, 1.0, 0.0))</td><td>11.17</td></tr><tr><td>Map(vectorType -> dense, length -> 6, values -> List(2.0, 2.0, 1.0, 2.0, 1.0, 0.0))</td><td>12.26</td></tr><tr><td>Map(vectorType -> dense, length -> 6, values -> List(3.25, 2.0, 1.0, 2.0, 1.0, 0.0))</td><td>18.26</td></tr><tr><td>Map(vectorType -> dense, length -> 6, values -> List(1.25, 2.0, 1.0, 2.0, 1.0, 0.0))</td><td>8.51</td></tr><tr><td>Map(vectorType -> dense, length -> 6, values -> List(2.0, 2.0, 1.0, 2.0, 1.0, 0.0))</td><td>10.33</td></tr><tr><td>Map(vectorType -> dense, length -> 6, values -> List(2.0, 2.0, 1.0, 2.0, 1.0, 0.0))</td><td>14.15</td></tr><tr><td>Map(vectorType -> dense, length -> 6, values -> List(2.0, 2.0, 0.0, 2.0, 1.0, 1.0))</td><td>16.0</td></tr><tr><td>Map(vectorType -> dense, length -> 6, values -> List(2.75, 2.0, 1.0, 2.0, 1.0, 0.0))</td><td>13.16</td></tr><tr><td>Map(vectorType -> dense, length -> 6, values -> List(3.5, 2.0, 1.0, 2.0, 1.0, 0.0))</td><td>17.47</td></tr><tr><td>Map(vectorType -> dense, length -> 6, values -> List(6.7, 6.0, 0.0, 2.0, 1.0, 0.0))</td><td>34.3</td></tr><tr><td>Map(vectorType -> dense, length -> 6, values -> List(5.0, 5.0, 0.0, 2.0, 1.0, 0.0))</td><td>41.19</td></tr><tr><td>Map(vectorType -> dense, length -> 6, values -> List(5.0, 6.0, 1.0, 2.0, 1.0, 0.0))</td><td>27.05</td></tr><tr><td>Map(vectorType -> dense, length -> 6, values -> List(2.3, 2.0, 1.0, 2.0, 1.0, 0.0))</td><td>16.43</td></tr><tr><td>Map(vectorType -> dense, length -> 6, values -> List(1.5, 2.0, 1.0, 2.0, 1.0, 0.0))</td><td>8.35</td></tr><tr><td>Map(vectorType -> dense, length -> 6, values -> List(1.36, 3.0, 1.0, 2.0, 1.0, 0.0))</td><td>18.64</td></tr><tr><td>Map(vectorType -> dense, length -> 6, values -> List(1.63, 2.0, 1.0, 2.0, 1.0, 0.0))</td><td>11.87</td></tr><tr><td>Map(vectorType -> dense, length -> 6, values -> List(1.73, 2.0, 0.0, 2.0, 1.0, 0.0))</td><td>9.78</td></tr><tr><td>Map(vectorType -> dense, length -> 6, values -> List(2.0, 2.0, 0.0, 2.0, 1.0, 0.0))</td><td>7.51</td></tr><tr><td>Map(vectorType -> dense, length -> 6, values -> List(2.5, 2.0, 0.0, 1.0, 0.0, 0.0))</td><td>14.07</td></tr><tr><td>Map(vectorType -> dense, length -> 6, values -> List(2.0, 2.0, 0.0, 1.0, 0.0, 0.0))</td><td>13.13</td></tr><tr><td>Map(vectorType -> dense, length -> 6, values -> List(2.74, 3.0, 0.0, 1.0, 0.0, 0.0))</td><td>17.26</td></tr><tr><td>Map(vectorType -> dense, length -> 6, values -> List(2.0, 4.0, 0.0, 1.0, 0.0, 0.0))</td><td>24.55</td></tr><tr><td>Map(vectorType -> dense, length -> 6, values -> List(2.0, 4.0, 0.0, 1.0, 0.0, 0.0))</td><td>19.77</td></tr><tr><td>Map(vectorType -> dense, length -> 6, values -> List(5.14, 5.0, 1.0, 1.0, 0.0, 0.0))</td><td>29.85</td></tr><tr><td>Map(vectorType -> dense, length -> 6, values -> List(5.0, 6.0, 0.0, 1.0, 0.0, 0.0))</td><td>48.17</td></tr><tr><td>Map(vectorType -> dense, length -> 6, values -> List(3.75, 4.0, 1.0, 1.0, 0.0, 0.0))</td><td>25.0</td></tr><tr><td>Map(vectorType -> dense, length -> 6, values -> List(2.61, 2.0, 1.0, 1.0, 0.0, 0.0))</td><td>13.39</td></tr><tr><td>Map(vectorType -> dense, length -> 6, values -> List(2.0, 4.0, 0.0, 1.0, 0.0, 0.0))</td><td>16.49</td></tr><tr><td>Map(vectorType -> dense, length -> 6, values -> List(3.5, 4.0, 0.0, 1.0, 0.0, 0.0))</td><td>21.5</td></tr><tr><td>Map(vectorType -> dense, length -> 6, values -> List(2.5, 2.0, 0.0, 1.0, 0.0, 0.0))</td><td>12.66</td></tr><tr><td>Map(vectorType -> dense, length -> 6, values -> List(2.0, 3.0, 1.0, 1.0, 0.0, 0.0))</td><td>16.21</td></tr><tr><td>Map(vectorType -> dense, length -> 6, values -> List(2.0, 2.0, 0.0, 1.0, 0.0, 0.0))</td><td>13.81</td></tr><tr><td>Map(vectorType -> dense, length -> 6, values -> List(3.0, 2.0, 1.0, 1.0, 0.0, 1.0))</td><td>17.51</td></tr><tr><td>Map(vectorType -> dense, length -> 6, values -> List(3.48, 3.0, 0.0, 1.0, 0.0, 0.0))</td><td>24.52</td></tr><tr><td>Map(vectorType -> dense, length -> 6, values -> List(2.24, 2.0, 0.0, 1.0, 0.0, 0.0))</td><td>20.76</td></tr><tr><td>Map(vectorType -> dense, length -> 6, values -> List(4.5, 4.0, 0.0, 1.0, 0.0, 0.0))</td><td>31.71</td></tr><tr><td>Map(vectorType -> dense, length -> 6, values -> List(1.61, 2.0, 1.0, 0.0, 0.0, 1.0))</td><td>10.59</td></tr><tr><td>Map(vectorType -> dense, length -> 6, values -> List(2.0, 2.0, 1.0, 0.0, 0.0, 1.0))</td><td>10.63</td></tr><tr><td>Map(vectorType -> dense, length -> 6, values -> List(10.0, 3.0, 0.0, 0.0, 0.0, 1.0))</td><td>50.81</td></tr><tr><td>Map(vectorType -> dense, length -> 6, values -> List(3.16, 2.0, 0.0, 0.0, 0.0, 1.0))</td><td>15.81</td></tr><tr><td>Map(vectorType -> dense, length -> 6, values -> List(5.15, 2.0, 0.0, 1.0, 0.0, 1.0))</td><td>7.25</td></tr><tr><td>Map(vectorType -> dense, length -> 6, values -> List(3.18, 2.0, 0.0, 1.0, 0.0, 1.0))</td><td>31.85</td></tr><tr><td>Map(vectorType -> dense, length -> 6, values -> List(4.0, 2.0, 0.0, 1.0, 0.0, 1.0))</td><td>16.82</td></tr><tr><td>Map(vectorType -> dense, length -> 6, values -> List(3.11, 2.0, 0.0, 1.0, 0.0, 1.0))</td><td>32.9</td></tr><tr><td>Map(vectorType -> dense, length -> 6, values -> List(2.0, 2.0, 0.0, 1.0, 0.0, 1.0))</td><td>17.89</td></tr><tr><td>Map(vectorType -> dense, length -> 6, values -> List(2.0, 2.0, 0.0, 1.0, 0.0, 1.0))</td><td>14.48</td></tr><tr><td>Map(vectorType -> dense, length -> 6, values -> List(4.0, 2.0, 1.0, 1.0, 0.0, 1.0))</td><td>9.6</td></tr><tr><td>Map(vectorType -> dense, length -> 6, values -> List(3.55, 2.0, 0.0, 1.0, 0.0, 1.0))</td><td>34.63</td></tr><tr><td>Map(vectorType -> dense, length -> 6, values -> List(3.68, 4.0, 0.0, 1.0, 0.0, 1.0))</td><td>34.65</td></tr><tr><td>Map(vectorType -> dense, length -> 6, values -> List(5.65, 2.0, 0.0, 1.0, 0.0, 1.0))</td><td>23.33</td></tr><tr><td>Map(vectorType -> dense, length -> 6, values -> List(3.5, 3.0, 0.0, 1.0, 0.0, 1.0))</td><td>45.35</td></tr><tr><td>Map(vectorType -> dense, length -> 6, values -> List(6.5, 4.0, 0.0, 1.0, 0.0, 1.0))</td><td>23.17</td></tr><tr><td>Map(vectorType -> dense, length -> 6, values -> List(3.0, 2.0, 0.0, 1.0, 0.0, 1.0))</td><td>40.55</td></tr><tr><td>Map(vectorType -> dense, length -> 6, values -> List(5.0, 5.0, 0.0, 1.0, 0.0, 0.0))</td><td>20.69</td></tr><tr><td>Map(vectorType -> dense, length -> 6, values -> List(3.5, 3.0, 1.0, 1.0, 0.0, 1.0))</td><td>20.9</td></tr><tr><td>Map(vectorType -> dense, length -> 6, values -> List(2.0, 5.0, 0.0, 1.0, 0.0, 1.0))</td><td>30.46</td></tr><tr><td>Map(vectorType -> dense, length -> 6, values -> List(3.5, 3.0, 1.0, 1.0, 0.0, 1.0))</td><td>18.15</td></tr><tr><td>Map(vectorType -> dense, length -> 6, values -> List(4.0, 3.0, 0.0, 1.0, 0.0, 1.0))</td><td>23.1</td></tr><tr><td>Map(vectorType -> dense, length -> 6, values -> List(1.5, 2.0, 0.0, 1.0, 0.0, 1.0))</td><td>15.69</td></tr><tr><td>Map(vectorType -> dense, length -> 6, values -> List(4.19, 2.0, 1.0, 2.0, 1.0, 1.0))</td><td>19.81</td></tr><tr><td>Map(vectorType -> dense, length -> 6, values -> List(2.56, 2.0, 0.0, 2.0, 1.0, 1.0))</td><td>28.44</td></tr><tr><td>Map(vectorType -> dense, length -> 6, values -> List(2.02, 2.0, 0.0, 2.0, 1.0, 1.0))</td><td>15.48</td></tr><tr><td>Map(vectorType -> dense, length -> 6, values -> List(4.0, 2.0, 0.0, 2.0, 1.0, 1.0))</td><td>16.58</td></tr><tr><td>Map(vectorType -> dense, length -> 6, values -> List(1.44, 2.0, 0.0, 2.0, 1.0, 0.0))</td><td>7.56</td></tr><tr><td>Map(vectorType -> dense, length -> 6, values -> List(2.0, 2.0, 0.0, 2.0, 1.0, 1.0))</td><td>10.34</td></tr><tr><td>Map(vectorType -> dense, length -> 6, values -> List(5.0, 4.0, 1.0, 2.0, 1.0, 1.0))</td><td>43.11</td></tr><tr><td>Map(vectorType -> dense, length -> 6, values -> List(2.0, 2.0, 1.0, 2.0, 1.0, 1.0))</td><td>13.0</td></tr><tr><td>Map(vectorType -> dense, length -> 6, values -> List(2.0, 2.0, 0.0, 2.0, 1.0, 1.0))</td><td>13.51</td></tr><tr><td>Map(vectorType -> dense, length -> 6, values -> List(4.0, 3.0, 0.0, 2.0, 1.0, 1.0))</td><td>18.71</td></tr><tr><td>Map(vectorType -> dense, length -> 6, values -> List(2.01, 2.0, 1.0, 2.0, 1.0, 1.0))</td><td>12.74</td></tr><tr><td>Map(vectorType -> dense, length -> 6, values -> List(2.0, 2.0, 1.0, 2.0, 1.0, 1.0))</td><td>13.0</td></tr><tr><td>Map(vectorType -> dense, length -> 6, values -> List(2.5, 2.0, 1.0, 2.0, 1.0, 1.0))</td><td>16.4</td></tr><tr><td>Map(vectorType -> dense, length -> 6, values -> List(4.0, 4.0, 0.0, 2.0, 1.0, 1.0))</td><td>20.53</td></tr><tr><td>Map(vectorType -> dense, length -> 6, values -> List(3.23, 3.0, 1.0, 2.0, 1.0, 1.0))</td><td>16.47</td></tr><tr><td>Map(vectorType -> dense, length -> 6, values -> List(3.41, 3.0, 0.0, 0.0, 0.0, 1.0))</td><td>26.59</td></tr><tr><td>Map(vectorType -> dense, length -> 6, values -> List(3.0, 4.0, 0.0, 0.0, 0.0, 1.0))</td><td>38.73</td></tr><tr><td>Map(vectorType -> dense, length -> 6, values -> List(2.03, 2.0, 0.0, 0.0, 0.0, 1.0))</td><td>24.27</td></tr><tr><td>Map(vectorType -> dense, length -> 6, values -> List(2.23, 2.0, 1.0, 0.0, 0.0, 1.0))</td><td>12.76</td></tr><tr><td>Map(vectorType -> dense, length -> 6, values -> List(2.0, 3.0, 0.0, 0.0, 0.0, 1.0))</td><td>30.06</td></tr><tr><td>Map(vectorType -> dense, length -> 6, values -> List(5.16, 4.0, 0.0, 0.0, 0.0, 1.0))</td><td>25.89</td></tr><tr><td>Map(vectorType -> sparse, length -> 6, indices -> List(0, 1), values -> List(9.0, 4.0))</td><td>48.33</td></tr><tr><td>Map(vectorType -> dense, length -> 6, values -> List(2.5, 2.0, 1.0, 0.0, 0.0, 1.0))</td><td>13.27</td></tr><tr><td>Map(vectorType -> dense, length -> 6, values -> List(6.5, 3.0, 1.0, 0.0, 0.0, 1.0))</td><td>28.17</td></tr><tr><td>Map(vectorType -> dense, length -> 6, values -> List(1.1, 2.0, 1.0, 0.0, 0.0, 1.0))</td><td>12.9</td></tr><tr><td>Map(vectorType -> dense, length -> 6, values -> List(3.0, 5.0, 0.0, 0.0, 0.0, 1.0))</td><td>28.15</td></tr><tr><td>Map(vectorType -> dense, length -> 6, values -> List(1.5, 2.0, 0.0, 0.0, 0.0, 1.0))</td><td>11.59</td></tr><tr><td>Map(vectorType -> dense, length -> 6, values -> List(1.44, 2.0, 0.0, 0.0, 0.0, 1.0))</td><td>7.74</td></tr><tr><td>Map(vectorType -> dense, length -> 6, values -> List(3.09, 4.0, 1.0, 0.0, 0.0, 1.0))</td><td>30.14</td></tr><tr><td>Map(vectorType -> dense, length -> 6, values -> List(2.2, 2.0, 0.0, 3.0, 1.0, 1.0))</td><td>12.16</td></tr><tr><td>Map(vectorType -> dense, length -> 6, values -> List(3.48, 2.0, 1.0, 3.0, 1.0, 1.0))</td><td>13.42</td></tr><tr><td>Map(vectorType -> dense, length -> 6, values -> List(1.92, 1.0, 0.0, 3.0, 1.0, 1.0))</td><td>8.58</td></tr><tr><td>Map(vectorType -> dense, length -> 6, values -> List(3.0, 3.0, 1.0, 3.0, 1.0, 0.0))</td><td>15.98</td></tr><tr><td>Map(vectorType -> dense, length -> 6, values -> List(1.58, 2.0, 0.0, 3.0, 1.0, 1.0))</td><td>13.42</td></tr><tr><td>Map(vectorType -> dense, length -> 6, values -> List(2.5, 2.0, 1.0, 3.0, 1.0, 1.0))</td><td>16.27</td></tr><tr><td>Map(vectorType -> dense, length -> 6, values -> List(2.0, 2.0, 1.0, 3.0, 1.0, 1.0))</td><td>10.09</td></tr><tr><td>Map(vectorType -> sparse, length -> 6, indices -> List(0, 1), values -> List(3.0, 4.0))</td><td>20.45</td></tr><tr><td>Map(vectorType -> sparse, length -> 6, indices -> List(0, 1), values -> List(2.72, 2.0))</td><td>13.28</td></tr><tr><td>Map(vectorType -> dense, length -> 6, values -> List(2.88, 2.0, 1.0, 0.0, 0.0, 1.0))</td><td>22.12</td></tr><tr><td>Map(vectorType -> dense, length -> 6, values -> List(2.0, 4.0, 0.0, 0.0, 0.0, 1.0))</td><td>24.01</td></tr><tr><td>Map(vectorType -> dense, length -> 6, values -> List(3.0, 3.0, 0.0, 0.0, 0.0, 1.0))</td><td>15.69</td></tr><tr><td>Map(vectorType -> sparse, length -> 6, indices -> List(0, 1), values -> List(3.39, 2.0))</td><td>11.61</td></tr><tr><td>Map(vectorType -> sparse, length -> 6, indices -> List(0, 1), values -> List(1.47, 2.0))</td><td>10.77</td></tr><tr><td>Map(vectorType -> dense, length -> 6, values -> List(3.0, 2.0, 0.0, 0.0, 0.0, 1.0))</td><td>15.53</td></tr><tr><td>Map(vectorType -> sparse, length -> 6, indices -> List(0, 1), values -> List(1.25, 2.0))</td><td>10.07</td></tr><tr><td>Map(vectorType -> dense, length -> 6, values -> List(1.0, 2.0, 0.0, 0.0, 0.0, 1.0))</td><td>12.6</td></tr><tr><td>Map(vectorType -> dense, length -> 6, values -> List(1.17, 2.0, 0.0, 0.0, 0.0, 1.0))</td><td>32.83</td></tr><tr><td>Map(vectorType -> dense, length -> 6, values -> List(4.67, 3.0, 1.0, 0.0, 0.0, 0.0))</td><td>35.83</td></tr><tr><td>Map(vectorType -> sparse, length -> 6, indices -> List(0, 1), values -> List(5.92, 3.0))</td><td>29.03</td></tr><tr><td>Map(vectorType -> dense, length -> 6, values -> List(2.0, 2.0, 1.0, 0.0, 0.0, 1.0))</td><td>27.18</td></tr><tr><td>Map(vectorType -> dense, length -> 6, values -> List(2.0, 2.0, 0.0, 0.0, 0.0, 1.0))</td><td>22.67</td></tr><tr><td>Map(vectorType -> sparse, length -> 6, indices -> List(0, 1), values -> List(1.75, 2.0))</td><td>17.82</td></tr><tr><td>Map(vectorType -> dense, length -> 6, values -> List(3.0, 2.0, 1.0, 2.0, 0.0, 0.0))</td><td>18.78</td></tr></tbody></table></div>"
      ]
     },
     "metadata": {
      "application/vnd.databricks.v1+output": {
       "addedWidgets": {},
       "aggData": [],
       "aggError": "",
       "aggOverflow": false,
       "aggSchema": [],
       "aggSeriesLimitReached": false,
       "aggType": "",
       "arguments": {},
       "columnCustomDisplayInfos": {},
       "data": [
        [
         {
          "length": 6,
          "values": [
           1.01,
           2.0,
           1.0,
           1.0,
           0.0,
           0.0
          ],
          "vectorType": "dense"
         },
         16.99
        ],
        [
         {
          "length": 6,
          "values": [
           1.66,
           3.0,
           0.0,
           1.0,
           0.0,
           0.0
          ],
          "vectorType": "dense"
         },
         10.34
        ],
        [
         {
          "length": 6,
          "values": [
           3.5,
           3.0,
           0.0,
           1.0,
           0.0,
           0.0
          ],
          "vectorType": "dense"
         },
         21.01
        ],
        [
         {
          "length": 6,
          "values": [
           3.31,
           2.0,
           0.0,
           1.0,
           0.0,
           0.0
          ],
          "vectorType": "dense"
         },
         23.68
        ],
        [
         {
          "length": 6,
          "values": [
           3.61,
           4.0,
           1.0,
           1.0,
           0.0,
           0.0
          ],
          "vectorType": "dense"
         },
         24.59
        ],
        [
         {
          "length": 6,
          "values": [
           4.71,
           4.0,
           0.0,
           1.0,
           0.0,
           0.0
          ],
          "vectorType": "dense"
         },
         25.29
        ],
        [
         {
          "length": 6,
          "values": [
           2.0,
           2.0,
           0.0,
           1.0,
           0.0,
           0.0
          ],
          "vectorType": "dense"
         },
         8.77
        ],
        [
         {
          "length": 6,
          "values": [
           3.12,
           4.0,
           0.0,
           1.0,
           0.0,
           0.0
          ],
          "vectorType": "dense"
         },
         26.88
        ],
        [
         {
          "length": 6,
          "values": [
           1.96,
           2.0,
           0.0,
           1.0,
           0.0,
           0.0
          ],
          "vectorType": "dense"
         },
         15.04
        ],
        [
         {
          "length": 6,
          "values": [
           3.23,
           2.0,
           0.0,
           1.0,
           0.0,
           0.0
          ],
          "vectorType": "dense"
         },
         14.78
        ],
        [
         {
          "length": 6,
          "values": [
           1.71,
           2.0,
           0.0,
           1.0,
           0.0,
           0.0
          ],
          "vectorType": "dense"
         },
         10.27
        ],
        [
         {
          "length": 6,
          "values": [
           5.0,
           4.0,
           1.0,
           1.0,
           0.0,
           0.0
          ],
          "vectorType": "dense"
         },
         35.26
        ],
        [
         {
          "length": 6,
          "values": [
           1.57,
           2.0,
           0.0,
           1.0,
           0.0,
           0.0
          ],
          "vectorType": "dense"
         },
         15.42
        ],
        [
         {
          "length": 6,
          "values": [
           3.0,
           4.0,
           0.0,
           1.0,
           0.0,
           0.0
          ],
          "vectorType": "dense"
         },
         18.43
        ],
        [
         {
          "length": 6,
          "values": [
           3.02,
           2.0,
           1.0,
           1.0,
           0.0,
           0.0
          ],
          "vectorType": "dense"
         },
         14.83
        ],
        [
         {
          "length": 6,
          "values": [
           3.92,
           2.0,
           0.0,
           1.0,
           0.0,
           0.0
          ],
          "vectorType": "dense"
         },
         21.58
        ],
        [
         {
          "length": 6,
          "values": [
           1.67,
           3.0,
           1.0,
           1.0,
           0.0,
           0.0
          ],
          "vectorType": "dense"
         },
         10.33
        ],
        [
         {
          "length": 6,
          "values": [
           3.71,
           3.0,
           0.0,
           1.0,
           0.0,
           0.0
          ],
          "vectorType": "dense"
         },
         16.29
        ],
        [
         {
          "length": 6,
          "values": [
           3.5,
           3.0,
           1.0,
           1.0,
           0.0,
           0.0
          ],
          "vectorType": "dense"
         },
         16.97
        ],
        [
         {
          "indices": [
           0,
           1
          ],
          "length": 6,
          "values": [
           3.35,
           3.0
          ],
          "vectorType": "sparse"
         },
         20.65
        ],
        [
         {
          "indices": [
           0,
           1
          ],
          "length": 6,
          "values": [
           4.08,
           2.0
          ],
          "vectorType": "sparse"
         },
         17.92
        ],
        [
         {
          "length": 6,
          "values": [
           2.75,
           2.0,
           1.0,
           0.0,
           0.0,
           0.0
          ],
          "vectorType": "dense"
         },
         20.29
        ],
        [
         {
          "length": 6,
          "values": [
           2.23,
           2.0,
           1.0,
           0.0,
           0.0,
           0.0
          ],
          "vectorType": "dense"
         },
         15.77
        ],
        [
         {
          "indices": [
           0,
           1
          ],
          "length": 6,
          "values": [
           7.58,
           4.0
          ],
          "vectorType": "sparse"
         },
         39.42
        ],
        [
         {
          "indices": [
           0,
           1
          ],
          "length": 6,
          "values": [
           3.18,
           2.0
          ],
          "vectorType": "sparse"
         },
         19.82
        ],
        [
         {
          "indices": [
           0,
           1
          ],
          "length": 6,
          "values": [
           2.34,
           4.0
          ],
          "vectorType": "sparse"
         },
         17.81
        ],
        [
         {
          "indices": [
           0,
           1
          ],
          "length": 6,
          "values": [
           2.0,
           2.0
          ],
          "vectorType": "sparse"
         },
         13.37
        ],
        [
         {
          "indices": [
           0,
           1
          ],
          "length": 6,
          "values": [
           2.0,
           2.0
          ],
          "vectorType": "sparse"
         },
         12.69
        ],
        [
         {
          "indices": [
           0,
           1
          ],
          "length": 6,
          "values": [
           4.3,
           2.0
          ],
          "vectorType": "sparse"
         },
         21.7
        ],
        [
         {
          "length": 6,
          "values": [
           3.0,
           2.0,
           1.0,
           0.0,
           0.0,
           0.0
          ],
          "vectorType": "dense"
         },
         19.65
        ],
        [
         {
          "indices": [
           0,
           1
          ],
          "length": 6,
          "values": [
           1.45,
           2.0
          ],
          "vectorType": "sparse"
         },
         9.55
        ],
        [
         {
          "indices": [
           0,
           1
          ],
          "length": 6,
          "values": [
           2.5,
           4.0
          ],
          "vectorType": "sparse"
         },
         18.35
        ],
        [
         {
          "length": 6,
          "values": [
           3.0,
           2.0,
           1.0,
           0.0,
           0.0,
           0.0
          ],
          "vectorType": "dense"
         },
         15.06
        ],
        [
         {
          "length": 6,
          "values": [
           2.45,
           4.0,
           1.0,
           0.0,
           0.0,
           0.0
          ],
          "vectorType": "dense"
         },
         20.69
        ],
        [
         {
          "indices": [
           0,
           1
          ],
          "length": 6,
          "values": [
           3.27,
           2.0
          ],
          "vectorType": "sparse"
         },
         17.78
        ],
        [
         {
          "indices": [
           0,
           1
          ],
          "length": 6,
          "values": [
           3.6,
           3.0
          ],
          "vectorType": "sparse"
         },
         24.06
        ],
        [
         {
          "indices": [
           0,
           1
          ],
          "length": 6,
          "values": [
           2.0,
           3.0
          ],
          "vectorType": "sparse"
         },
         16.31
        ],
        [
         {
          "length": 6,
          "values": [
           3.07,
           3.0,
           1.0,
           0.0,
           0.0,
           0.0
          ],
          "vectorType": "dense"
         },
         16.93
        ],
        [
         {
          "indices": [
           0,
           1
          ],
          "length": 6,
          "values": [
           2.31,
           3.0
          ],
          "vectorType": "sparse"
         },
         18.69
        ],
        [
         {
          "indices": [
           0,
           1
          ],
          "length": 6,
          "values": [
           5.0,
           3.0
          ],
          "vectorType": "sparse"
         },
         31.27
        ],
        [
         {
          "indices": [
           0,
           1
          ],
          "length": 6,
          "values": [
           2.24,
           3.0
          ],
          "vectorType": "sparse"
         },
         16.04
        ],
        [
         {
          "length": 6,
          "values": [
           2.54,
           2.0,
           0.0,
           1.0,
           0.0,
           0.0
          ],
          "vectorType": "dense"
         },
         17.46
        ],
        [
         {
          "length": 6,
          "values": [
           3.06,
           2.0,
           0.0,
           1.0,
           0.0,
           0.0
          ],
          "vectorType": "dense"
         },
         13.94
        ],
        [
         {
          "length": 6,
          "values": [
           1.32,
           2.0,
           0.0,
           1.0,
           0.0,
           0.0
          ],
          "vectorType": "dense"
         },
         9.68
        ],
        [
         {
          "length": 6,
          "values": [
           5.6,
           4.0,
           0.0,
           1.0,
           0.0,
           0.0
          ],
          "vectorType": "dense"
         },
         30.4
        ],
        [
         {
          "length": 6,
          "values": [
           3.0,
           2.0,
           0.0,
           1.0,
           0.0,
           0.0
          ],
          "vectorType": "dense"
         },
         18.29
        ],
        [
         {
          "length": 6,
          "values": [
           5.0,
           2.0,
           0.0,
           1.0,
           0.0,
           0.0
          ],
          "vectorType": "dense"
         },
         22.23
        ],
        [
         {
          "length": 6,
          "values": [
           6.0,
           4.0,
           0.0,
           1.0,
           0.0,
           0.0
          ],
          "vectorType": "dense"
         },
         32.4
        ],
        [
         {
          "length": 6,
          "values": [
           2.05,
           3.0,
           0.0,
           1.0,
           0.0,
           0.0
          ],
          "vectorType": "dense"
         },
         28.55
        ],
        [
         {
          "length": 6,
          "values": [
           3.0,
           2.0,
           0.0,
           1.0,
           0.0,
           0.0
          ],
          "vectorType": "dense"
         },
         18.04
        ],
        [
         {
          "length": 6,
          "values": [
           2.5,
           2.0,
           0.0,
           1.0,
           0.0,
           0.0
          ],
          "vectorType": "dense"
         },
         12.54
        ],
        [
         {
          "length": 6,
          "values": [
           2.6,
           2.0,
           1.0,
           1.0,
           0.0,
           0.0
          ],
          "vectorType": "dense"
         },
         10.29
        ],
        [
         {
          "length": 6,
          "values": [
           5.2,
           4.0,
           1.0,
           1.0,
           0.0,
           0.0
          ],
          "vectorType": "dense"
         },
         34.81
        ],
        [
         {
          "length": 6,
          "values": [
           1.56,
           2.0,
           0.0,
           1.0,
           0.0,
           0.0
          ],
          "vectorType": "dense"
         },
         9.94
        ],
        [
         {
          "length": 6,
          "values": [
           4.34,
           4.0,
           0.0,
           1.0,
           0.0,
           0.0
          ],
          "vectorType": "dense"
         },
         25.56
        ],
        [
         {
          "length": 6,
          "values": [
           3.51,
           2.0,
           0.0,
           1.0,
           0.0,
           0.0
          ],
          "vectorType": "dense"
         },
         19.49
        ],
        [
         {
          "length": 6,
          "values": [
           3.0,
           4.0,
           0.0,
           0.0,
           0.0,
           1.0
          ],
          "vectorType": "dense"
         },
         38.01
        ],
        [
         {
          "length": 6,
          "values": [
           1.5,
           2.0,
           1.0,
           0.0,
           0.0,
           0.0
          ],
          "vectorType": "dense"
         },
         26.41
        ],
        [
         {
          "length": 6,
          "values": [
           1.76,
           2.0,
           0.0,
           0.0,
           0.0,
           1.0
          ],
          "vectorType": "dense"
         },
         11.24
        ],
        [
         {
          "indices": [
           0,
           1
          ],
          "length": 6,
          "values": [
           6.73,
           4.0
          ],
          "vectorType": "sparse"
         },
         48.27
        ],
        [
         {
          "length": 6,
          "values": [
           3.21,
           2.0,
           0.0,
           0.0,
           0.0,
           1.0
          ],
          "vectorType": "dense"
         },
         20.29
        ],
        [
         {
          "length": 6,
          "values": [
           2.0,
           2.0,
           0.0,
           0.0,
           0.0,
           1.0
          ],
          "vectorType": "dense"
         },
         13.81
        ],
        [
         {
          "length": 6,
          "values": [
           1.98,
           2.0,
           0.0,
           0.0,
           0.0,
           1.0
          ],
          "vectorType": "dense"
         },
         11.02
        ],
        [
         {
          "length": 6,
          "values": [
           3.76,
           4.0,
           0.0,
           0.0,
           0.0,
           1.0
          ],
          "vectorType": "dense"
         },
         18.29
        ],
        [
         {
          "indices": [
           0,
           1
          ],
          "length": 6,
          "values": [
           2.64,
           3.0
          ],
          "vectorType": "sparse"
         },
         17.59
        ],
        [
         {
          "indices": [
           0,
           1
          ],
          "length": 6,
          "values": [
           3.15,
           3.0
          ],
          "vectorType": "sparse"
         },
         20.08
        ],
        [
         {
          "length": 6,
          "values": [
           2.47,
           2.0,
           1.0,
           0.0,
           0.0,
           0.0
          ],
          "vectorType": "dense"
         },
         16.45
        ],
        [
         {
          "length": 6,
          "values": [
           1.0,
           1.0,
           1.0,
           0.0,
           0.0,
           1.0
          ],
          "vectorType": "dense"
         },
         3.07
        ],
        [
         {
          "indices": [
           0,
           1
          ],
          "length": 6,
          "values": [
           2.01,
           2.0
          ],
          "vectorType": "sparse"
         },
         20.23
        ],
        [
         {
          "length": 6,
          "values": [
           2.09,
           2.0,
           0.0,
           0.0,
           0.0,
           1.0
          ],
          "vectorType": "dense"
         },
         15.01
        ],
        [
         {
          "indices": [
           0,
           1
          ],
          "length": 6,
          "values": [
           1.97,
           2.0
          ],
          "vectorType": "sparse"
         },
         12.02
        ],
        [
         {
          "length": 6,
          "values": [
           3.0,
           3.0,
           1.0,
           0.0,
           0.0,
           0.0
          ],
          "vectorType": "dense"
         },
         17.07
        ],
        [
         {
          "length": 6,
          "values": [
           3.14,
           2.0,
           1.0,
           0.0,
           0.0,
           1.0
          ],
          "vectorType": "dense"
         },
         26.86
        ],
        [
         {
          "length": 6,
          "values": [
           5.0,
           2.0,
           1.0,
           0.0,
           0.0,
           1.0
          ],
          "vectorType": "dense"
         },
         25.28
        ],
        [
         {
          "length": 6,
          "values": [
           2.2,
           2.0,
           1.0,
           0.0,
           0.0,
           0.0
          ],
          "vectorType": "dense"
         },
         14.73
        ],
        [
         {
          "indices": [
           0,
           1
          ],
          "length": 6,
          "values": [
           1.25,
           2.0
          ],
          "vectorType": "sparse"
         },
         10.51
        ],
        [
         {
          "length": 6,
          "values": [
           3.08,
           2.0,
           0.0,
           0.0,
           0.0,
           1.0
          ],
          "vectorType": "dense"
         },
         17.92
        ],
        [
         {
          "length": 6,
          "values": [
           4.0,
           4.0,
           0.0,
           2.0,
           1.0,
           0.0
          ],
          "vectorType": "dense"
         },
         27.2
        ],
        [
         {
          "length": 6,
          "values": [
           3.0,
           2.0,
           0.0,
           2.0,
           1.0,
           0.0
          ],
          "vectorType": "dense"
         },
         22.76
        ],
        [
         {
          "length": 6,
          "values": [
           2.71,
           2.0,
           0.0,
           2.0,
           1.0,
           0.0
          ],
          "vectorType": "dense"
         },
         17.29
        ],
        [
         {
          "length": 6,
          "values": [
           3.0,
           2.0,
           0.0,
           2.0,
           1.0,
           1.0
          ],
          "vectorType": "dense"
         },
         19.44
        ],
        [
         {
          "length": 6,
          "values": [
           3.4,
           2.0,
           0.0,
           2.0,
           1.0,
           0.0
          ],
          "vectorType": "dense"
         },
         16.66
        ],
        [
         {
          "length": 6,
          "values": [
           1.83,
           1.0,
           1.0,
           2.0,
           1.0,
           0.0
          ],
          "vectorType": "dense"
         },
         10.07
        ],
        [
         {
          "length": 6,
          "values": [
           5.0,
           2.0,
           0.0,
           2.0,
           1.0,
           1.0
          ],
          "vectorType": "dense"
         },
         32.68
        ],
        [
         {
          "length": 6,
          "values": [
           2.03,
           2.0,
           0.0,
           2.0,
           1.0,
           0.0
          ],
          "vectorType": "dense"
         },
         15.98
        ],
        [
         {
          "length": 6,
          "values": [
           5.17,
           4.0,
           1.0,
           2.0,
           1.0,
           0.0
          ],
          "vectorType": "dense"
         },
         34.83
        ],
        [
         {
          "length": 6,
          "values": [
           2.0,
           2.0,
           0.0,
           2.0,
           1.0,
           0.0
          ],
          "vectorType": "dense"
         },
         13.03
        ],
        [
         {
          "length": 6,
          "values": [
           4.0,
           2.0,
           0.0,
           2.0,
           1.0,
           0.0
          ],
          "vectorType": "dense"
         },
         18.28
        ],
        [
         {
          "length": 6,
          "values": [
           5.85,
           2.0,
           0.0,
           2.0,
           1.0,
           0.0
          ],
          "vectorType": "dense"
         },
         24.71
        ],
        [
         {
          "length": 6,
          "values": [
           3.0,
           2.0,
           0.0,
           2.0,
           1.0,
           0.0
          ],
          "vectorType": "dense"
         },
         21.16
        ],
        [
         {
          "length": 6,
          "values": [
           3.0,
           2.0,
           0.0,
           3.0,
           0.0,
           1.0
          ],
          "vectorType": "dense"
         },
         28.97
        ],
        [
         {
          "length": 6,
          "values": [
           3.5,
           2.0,
           0.0,
           3.0,
           0.0,
           0.0
          ],
          "vectorType": "dense"
         },
         22.49
        ],
        [
         {
          "length": 6,
          "values": [
           1.0,
           2.0,
           1.0,
           3.0,
           0.0,
           1.0
          ],
          "vectorType": "dense"
         },
         5.75
        ],
        [
         {
          "length": 6,
          "values": [
           4.3,
           2.0,
           1.0,
           3.0,
           0.0,
           1.0
          ],
          "vectorType": "dense"
         },
         16.32
        ],
        [
         {
          "length": 6,
          "values": [
           3.25,
           2.0,
           1.0,
           3.0,
           0.0,
           0.0
          ],
          "vectorType": "dense"
         },
         22.75
        ],
        [
         {
          "length": 6,
          "values": [
           4.73,
           4.0,
           0.0,
           3.0,
           0.0,
           1.0
          ],
          "vectorType": "dense"
         },
         40.17
        ],
        [
         {
          "length": 6,
          "values": [
           4.0,
           2.0,
           0.0,
           3.0,
           0.0,
           1.0
          ],
          "vectorType": "dense"
         },
         27.28
        ],
        [
         {
          "length": 6,
          "values": [
           1.5,
           2.0,
           0.0,
           3.0,
           0.0,
           1.0
          ],
          "vectorType": "dense"
         },
         12.03
        ],
        [
         {
          "length": 6,
          "values": [
           3.0,
           2.0,
           0.0,
           3.0,
           0.0,
           1.0
          ],
          "vectorType": "dense"
         },
         21.01
        ],
        [
         {
          "length": 6,
          "values": [
           1.5,
           2.0,
           0.0,
           3.0,
           0.0,
           0.0
          ],
          "vectorType": "dense"
         },
         12.46
        ],
        [
         {
          "length": 6,
          "values": [
           2.5,
           2.0,
           1.0,
           3.0,
           0.0,
           1.0
          ],
          "vectorType": "dense"
         },
         11.35
        ],
        [
         {
          "length": 6,
          "values": [
           3.0,
           2.0,
           1.0,
           3.0,
           0.0,
           1.0
          ],
          "vectorType": "dense"
         },
         15.38
        ],
        [
         {
          "length": 6,
          "values": [
           2.5,
           3.0,
           1.0,
           0.0,
           0.0,
           1.0
          ],
          "vectorType": "dense"
         },
         44.3
        ],
        [
         {
          "length": 6,
          "values": [
           3.48,
           2.0,
           1.0,
           0.0,
           0.0,
           1.0
          ],
          "vectorType": "dense"
         },
         22.42
        ],
        [
         {
          "length": 6,
          "values": [
           4.08,
           2.0,
           1.0,
           0.0,
           0.0,
           0.0
          ],
          "vectorType": "dense"
         },
         20.92
        ],
        [
         {
          "length": 6,
          "values": [
           1.64,
           2.0,
           0.0,
           0.0,
           0.0,
           1.0
          ],
          "vectorType": "dense"
         },
         15.36
        ],
        [
         {
          "length": 6,
          "values": [
           4.06,
           2.0,
           0.0,
           0.0,
           0.0,
           1.0
          ],
          "vectorType": "dense"
         },
         20.49
        ],
        [
         {
          "length": 6,
          "values": [
           4.29,
           2.0,
           0.0,
           0.0,
           0.0,
           1.0
          ],
          "vectorType": "dense"
         },
         25.21
        ],
        [
         {
          "indices": [
           0,
           1
          ],
          "length": 6,
          "values": [
           3.76,
           2.0
          ],
          "vectorType": "sparse"
         },
         18.24
        ],
        [
         {
          "length": 6,
          "values": [
           4.0,
           2.0,
           1.0,
           0.0,
           0.0,
           1.0
          ],
          "vectorType": "dense"
         },
         14.31
        ],
        [
         {
          "indices": [
           0,
           1
          ],
          "length": 6,
          "values": [
           3.0,
           2.0
          ],
          "vectorType": "sparse"
         },
         14.0
        ],
        [
         {
          "length": 6,
          "values": [
           1.0,
           1.0,
           1.0,
           0.0,
           0.0,
           0.0
          ],
          "vectorType": "dense"
         },
         7.25
        ],
        [
         {
          "length": 6,
          "values": [
           4.0,
           3.0,
           0.0,
           1.0,
           0.0,
           0.0
          ],
          "vectorType": "dense"
         },
         38.07
        ],
        [
         {
          "length": 6,
          "values": [
           2.55,
           2.0,
           0.0,
           1.0,
           0.0,
           0.0
          ],
          "vectorType": "dense"
         },
         23.95
        ],
        [
         {
          "length": 6,
          "values": [
           4.0,
           3.0,
           1.0,
           1.0,
           0.0,
           0.0
          ],
          "vectorType": "dense"
         },
         25.71
        ],
        [
         {
          "length": 6,
          "values": [
           3.5,
           2.0,
           1.0,
           1.0,
           0.0,
           0.0
          ],
          "vectorType": "dense"
         },
         17.31
        ],
        [
         {
          "length": 6,
          "values": [
           5.07,
           4.0,
           0.0,
           1.0,
           0.0,
           0.0
          ],
          "vectorType": "dense"
         },
         29.93
        ],
        [
         {
          "length": 6,
          "values": [
           1.5,
           2.0,
           1.0,
           2.0,
           1.0,
           0.0
          ],
          "vectorType": "dense"
         },
         10.65
        ],
        [
         {
          "length": 6,
          "values": [
           1.8,
           2.0,
           1.0,
           2.0,
           1.0,
           0.0
          ],
          "vectorType": "dense"
         },
         12.43
        ],
        [
         {
          "length": 6,
          "values": [
           2.92,
           4.0,
           1.0,
           2.0,
           1.0,
           0.0
          ],
          "vectorType": "dense"
         },
         24.08
        ],
        [
         {
          "length": 6,
          "values": [
           2.31,
           2.0,
           0.0,
           2.0,
           1.0,
           0.0
          ],
          "vectorType": "dense"
         },
         11.69
        ],
        [
         {
          "length": 6,
          "values": [
           1.68,
           2.0,
           1.0,
           2.0,
           1.0,
           0.0
          ],
          "vectorType": "dense"
         },
         13.42
        ],
        [
         {
          "length": 6,
          "values": [
           2.5,
           2.0,
           0.0,
           2.0,
           1.0,
           0.0
          ],
          "vectorType": "dense"
         },
         14.26
        ],
        [
         {
          "length": 6,
          "values": [
           2.0,
           2.0,
           0.0,
           2.0,
           1.0,
           0.0
          ],
          "vectorType": "dense"
         },
         15.95
        ],
        [
         {
          "length": 6,
          "values": [
           2.52,
           2.0,
           1.0,
           2.0,
           1.0,
           0.0
          ],
          "vectorType": "dense"
         },
         12.48
        ],
        [
         {
          "length": 6,
          "values": [
           4.2,
           6.0,
           1.0,
           2.0,
           1.0,
           0.0
          ],
          "vectorType": "dense"
         },
         29.8
        ],
        [
         {
          "length": 6,
          "values": [
           1.48,
           2.0,
           0.0,
           2.0,
           1.0,
           0.0
          ],
          "vectorType": "dense"
         },
         8.52
        ],
        [
         {
          "length": 6,
          "values": [
           2.0,
           2.0,
           1.0,
           2.0,
           1.0,
           0.0
          ],
          "vectorType": "dense"
         },
         14.52
        ],
        [
         {
          "length": 6,
          "values": [
           2.0,
           2.0,
           1.0,
           2.0,
           1.0,
           0.0
          ],
          "vectorType": "dense"
         },
         11.38
        ],
        [
         {
          "length": 6,
          "values": [
           2.18,
           3.0,
           0.0,
           2.0,
           1.0,
           0.0
          ],
          "vectorType": "dense"
         },
         22.82
        ],
        [
         {
          "length": 6,
          "values": [
           1.5,
           2.0,
           0.0,
           2.0,
           1.0,
           0.0
          ],
          "vectorType": "dense"
         },
         19.08
        ],
        [
         {
          "length": 6,
          "values": [
           2.83,
           2.0,
           1.0,
           2.0,
           1.0,
           0.0
          ],
          "vectorType": "dense"
         },
         20.27
        ],
        [
         {
          "length": 6,
          "values": [
           1.5,
           2.0,
           1.0,
           2.0,
           1.0,
           0.0
          ],
          "vectorType": "dense"
         },
         11.17
        ],
        [
         {
          "length": 6,
          "values": [
           2.0,
           2.0,
           1.0,
           2.0,
           1.0,
           0.0
          ],
          "vectorType": "dense"
         },
         12.26
        ],
        [
         {
          "length": 6,
          "values": [
           3.25,
           2.0,
           1.0,
           2.0,
           1.0,
           0.0
          ],
          "vectorType": "dense"
         },
         18.26
        ],
        [
         {
          "length": 6,
          "values": [
           1.25,
           2.0,
           1.0,
           2.0,
           1.0,
           0.0
          ],
          "vectorType": "dense"
         },
         8.51
        ],
        [
         {
          "length": 6,
          "values": [
           2.0,
           2.0,
           1.0,
           2.0,
           1.0,
           0.0
          ],
          "vectorType": "dense"
         },
         10.33
        ],
        [
         {
          "length": 6,
          "values": [
           2.0,
           2.0,
           1.0,
           2.0,
           1.0,
           0.0
          ],
          "vectorType": "dense"
         },
         14.15
        ],
        [
         {
          "length": 6,
          "values": [
           2.0,
           2.0,
           0.0,
           2.0,
           1.0,
           1.0
          ],
          "vectorType": "dense"
         },
         16.0
        ],
        [
         {
          "length": 6,
          "values": [
           2.75,
           2.0,
           1.0,
           2.0,
           1.0,
           0.0
          ],
          "vectorType": "dense"
         },
         13.16
        ],
        [
         {
          "length": 6,
          "values": [
           3.5,
           2.0,
           1.0,
           2.0,
           1.0,
           0.0
          ],
          "vectorType": "dense"
         },
         17.47
        ],
        [
         {
          "length": 6,
          "values": [
           6.7,
           6.0,
           0.0,
           2.0,
           1.0,
           0.0
          ],
          "vectorType": "dense"
         },
         34.3
        ],
        [
         {
          "length": 6,
          "values": [
           5.0,
           5.0,
           0.0,
           2.0,
           1.0,
           0.0
          ],
          "vectorType": "dense"
         },
         41.19
        ],
        [
         {
          "length": 6,
          "values": [
           5.0,
           6.0,
           1.0,
           2.0,
           1.0,
           0.0
          ],
          "vectorType": "dense"
         },
         27.05
        ],
        [
         {
          "length": 6,
          "values": [
           2.3,
           2.0,
           1.0,
           2.0,
           1.0,
           0.0
          ],
          "vectorType": "dense"
         },
         16.43
        ],
        [
         {
          "length": 6,
          "values": [
           1.5,
           2.0,
           1.0,
           2.0,
           1.0,
           0.0
          ],
          "vectorType": "dense"
         },
         8.35
        ],
        [
         {
          "length": 6,
          "values": [
           1.36,
           3.0,
           1.0,
           2.0,
           1.0,
           0.0
          ],
          "vectorType": "dense"
         },
         18.64
        ],
        [
         {
          "length": 6,
          "values": [
           1.63,
           2.0,
           1.0,
           2.0,
           1.0,
           0.0
          ],
          "vectorType": "dense"
         },
         11.87
        ],
        [
         {
          "length": 6,
          "values": [
           1.73,
           2.0,
           0.0,
           2.0,
           1.0,
           0.0
          ],
          "vectorType": "dense"
         },
         9.78
        ],
        [
         {
          "length": 6,
          "values": [
           2.0,
           2.0,
           0.0,
           2.0,
           1.0,
           0.0
          ],
          "vectorType": "dense"
         },
         7.51
        ],
        [
         {
          "length": 6,
          "values": [
           2.5,
           2.0,
           0.0,
           1.0,
           0.0,
           0.0
          ],
          "vectorType": "dense"
         },
         14.07
        ],
        [
         {
          "length": 6,
          "values": [
           2.0,
           2.0,
           0.0,
           1.0,
           0.0,
           0.0
          ],
          "vectorType": "dense"
         },
         13.13
        ],
        [
         {
          "length": 6,
          "values": [
           2.74,
           3.0,
           0.0,
           1.0,
           0.0,
           0.0
          ],
          "vectorType": "dense"
         },
         17.26
        ],
        [
         {
          "length": 6,
          "values": [
           2.0,
           4.0,
           0.0,
           1.0,
           0.0,
           0.0
          ],
          "vectorType": "dense"
         },
         24.55
        ],
        [
         {
          "length": 6,
          "values": [
           2.0,
           4.0,
           0.0,
           1.0,
           0.0,
           0.0
          ],
          "vectorType": "dense"
         },
         19.77
        ],
        [
         {
          "length": 6,
          "values": [
           5.14,
           5.0,
           1.0,
           1.0,
           0.0,
           0.0
          ],
          "vectorType": "dense"
         },
         29.85
        ],
        [
         {
          "length": 6,
          "values": [
           5.0,
           6.0,
           0.0,
           1.0,
           0.0,
           0.0
          ],
          "vectorType": "dense"
         },
         48.17
        ],
        [
         {
          "length": 6,
          "values": [
           3.75,
           4.0,
           1.0,
           1.0,
           0.0,
           0.0
          ],
          "vectorType": "dense"
         },
         25.0
        ],
        [
         {
          "length": 6,
          "values": [
           2.61,
           2.0,
           1.0,
           1.0,
           0.0,
           0.0
          ],
          "vectorType": "dense"
         },
         13.39
        ],
        [
         {
          "length": 6,
          "values": [
           2.0,
           4.0,
           0.0,
           1.0,
           0.0,
           0.0
          ],
          "vectorType": "dense"
         },
         16.49
        ],
        [
         {
          "length": 6,
          "values": [
           3.5,
           4.0,
           0.0,
           1.0,
           0.0,
           0.0
          ],
          "vectorType": "dense"
         },
         21.5
        ],
        [
         {
          "length": 6,
          "values": [
           2.5,
           2.0,
           0.0,
           1.0,
           0.0,
           0.0
          ],
          "vectorType": "dense"
         },
         12.66
        ],
        [
         {
          "length": 6,
          "values": [
           2.0,
           3.0,
           1.0,
           1.0,
           0.0,
           0.0
          ],
          "vectorType": "dense"
         },
         16.21
        ],
        [
         {
          "length": 6,
          "values": [
           2.0,
           2.0,
           0.0,
           1.0,
           0.0,
           0.0
          ],
          "vectorType": "dense"
         },
         13.81
        ],
        [
         {
          "length": 6,
          "values": [
           3.0,
           2.0,
           1.0,
           1.0,
           0.0,
           1.0
          ],
          "vectorType": "dense"
         },
         17.51
        ],
        [
         {
          "length": 6,
          "values": [
           3.48,
           3.0,
           0.0,
           1.0,
           0.0,
           0.0
          ],
          "vectorType": "dense"
         },
         24.52
        ],
        [
         {
          "length": 6,
          "values": [
           2.24,
           2.0,
           0.0,
           1.0,
           0.0,
           0.0
          ],
          "vectorType": "dense"
         },
         20.76
        ],
        [
         {
          "length": 6,
          "values": [
           4.5,
           4.0,
           0.0,
           1.0,
           0.0,
           0.0
          ],
          "vectorType": "dense"
         },
         31.71
        ],
        [
         {
          "length": 6,
          "values": [
           1.61,
           2.0,
           1.0,
           0.0,
           0.0,
           1.0
          ],
          "vectorType": "dense"
         },
         10.59
        ],
        [
         {
          "length": 6,
          "values": [
           2.0,
           2.0,
           1.0,
           0.0,
           0.0,
           1.0
          ],
          "vectorType": "dense"
         },
         10.63
        ],
        [
         {
          "length": 6,
          "values": [
           10.0,
           3.0,
           0.0,
           0.0,
           0.0,
           1.0
          ],
          "vectorType": "dense"
         },
         50.81
        ],
        [
         {
          "length": 6,
          "values": [
           3.16,
           2.0,
           0.0,
           0.0,
           0.0,
           1.0
          ],
          "vectorType": "dense"
         },
         15.81
        ],
        [
         {
          "length": 6,
          "values": [
           5.15,
           2.0,
           0.0,
           1.0,
           0.0,
           1.0
          ],
          "vectorType": "dense"
         },
         7.25
        ],
        [
         {
          "length": 6,
          "values": [
           3.18,
           2.0,
           0.0,
           1.0,
           0.0,
           1.0
          ],
          "vectorType": "dense"
         },
         31.85
        ],
        [
         {
          "length": 6,
          "values": [
           4.0,
           2.0,
           0.0,
           1.0,
           0.0,
           1.0
          ],
          "vectorType": "dense"
         },
         16.82
        ],
        [
         {
          "length": 6,
          "values": [
           3.11,
           2.0,
           0.0,
           1.0,
           0.0,
           1.0
          ],
          "vectorType": "dense"
         },
         32.9
        ],
        [
         {
          "length": 6,
          "values": [
           2.0,
           2.0,
           0.0,
           1.0,
           0.0,
           1.0
          ],
          "vectorType": "dense"
         },
         17.89
        ],
        [
         {
          "length": 6,
          "values": [
           2.0,
           2.0,
           0.0,
           1.0,
           0.0,
           1.0
          ],
          "vectorType": "dense"
         },
         14.48
        ],
        [
         {
          "length": 6,
          "values": [
           4.0,
           2.0,
           1.0,
           1.0,
           0.0,
           1.0
          ],
          "vectorType": "dense"
         },
         9.6
        ],
        [
         {
          "length": 6,
          "values": [
           3.55,
           2.0,
           0.0,
           1.0,
           0.0,
           1.0
          ],
          "vectorType": "dense"
         },
         34.63
        ],
        [
         {
          "length": 6,
          "values": [
           3.68,
           4.0,
           0.0,
           1.0,
           0.0,
           1.0
          ],
          "vectorType": "dense"
         },
         34.65
        ],
        [
         {
          "length": 6,
          "values": [
           5.65,
           2.0,
           0.0,
           1.0,
           0.0,
           1.0
          ],
          "vectorType": "dense"
         },
         23.33
        ],
        [
         {
          "length": 6,
          "values": [
           3.5,
           3.0,
           0.0,
           1.0,
           0.0,
           1.0
          ],
          "vectorType": "dense"
         },
         45.35
        ],
        [
         {
          "length": 6,
          "values": [
           6.5,
           4.0,
           0.0,
           1.0,
           0.0,
           1.0
          ],
          "vectorType": "dense"
         },
         23.17
        ],
        [
         {
          "length": 6,
          "values": [
           3.0,
           2.0,
           0.0,
           1.0,
           0.0,
           1.0
          ],
          "vectorType": "dense"
         },
         40.55
        ],
        [
         {
          "length": 6,
          "values": [
           5.0,
           5.0,
           0.0,
           1.0,
           0.0,
           0.0
          ],
          "vectorType": "dense"
         },
         20.69
        ],
        [
         {
          "length": 6,
          "values": [
           3.5,
           3.0,
           1.0,
           1.0,
           0.0,
           1.0
          ],
          "vectorType": "dense"
         },
         20.9
        ],
        [
         {
          "length": 6,
          "values": [
           2.0,
           5.0,
           0.0,
           1.0,
           0.0,
           1.0
          ],
          "vectorType": "dense"
         },
         30.46
        ],
        [
         {
          "length": 6,
          "values": [
           3.5,
           3.0,
           1.0,
           1.0,
           0.0,
           1.0
          ],
          "vectorType": "dense"
         },
         18.15
        ],
        [
         {
          "length": 6,
          "values": [
           4.0,
           3.0,
           0.0,
           1.0,
           0.0,
           1.0
          ],
          "vectorType": "dense"
         },
         23.1
        ],
        [
         {
          "length": 6,
          "values": [
           1.5,
           2.0,
           0.0,
           1.0,
           0.0,
           1.0
          ],
          "vectorType": "dense"
         },
         15.69
        ],
        [
         {
          "length": 6,
          "values": [
           4.19,
           2.0,
           1.0,
           2.0,
           1.0,
           1.0
          ],
          "vectorType": "dense"
         },
         19.81
        ],
        [
         {
          "length": 6,
          "values": [
           2.56,
           2.0,
           0.0,
           2.0,
           1.0,
           1.0
          ],
          "vectorType": "dense"
         },
         28.44
        ],
        [
         {
          "length": 6,
          "values": [
           2.02,
           2.0,
           0.0,
           2.0,
           1.0,
           1.0
          ],
          "vectorType": "dense"
         },
         15.48
        ],
        [
         {
          "length": 6,
          "values": [
           4.0,
           2.0,
           0.0,
           2.0,
           1.0,
           1.0
          ],
          "vectorType": "dense"
         },
         16.58
        ],
        [
         {
          "length": 6,
          "values": [
           1.44,
           2.0,
           0.0,
           2.0,
           1.0,
           0.0
          ],
          "vectorType": "dense"
         },
         7.56
        ],
        [
         {
          "length": 6,
          "values": [
           2.0,
           2.0,
           0.0,
           2.0,
           1.0,
           1.0
          ],
          "vectorType": "dense"
         },
         10.34
        ],
        [
         {
          "length": 6,
          "values": [
           5.0,
           4.0,
           1.0,
           2.0,
           1.0,
           1.0
          ],
          "vectorType": "dense"
         },
         43.11
        ],
        [
         {
          "length": 6,
          "values": [
           2.0,
           2.0,
           1.0,
           2.0,
           1.0,
           1.0
          ],
          "vectorType": "dense"
         },
         13.0
        ],
        [
         {
          "length": 6,
          "values": [
           2.0,
           2.0,
           0.0,
           2.0,
           1.0,
           1.0
          ],
          "vectorType": "dense"
         },
         13.51
        ],
        [
         {
          "length": 6,
          "values": [
           4.0,
           3.0,
           0.0,
           2.0,
           1.0,
           1.0
          ],
          "vectorType": "dense"
         },
         18.71
        ],
        [
         {
          "length": 6,
          "values": [
           2.01,
           2.0,
           1.0,
           2.0,
           1.0,
           1.0
          ],
          "vectorType": "dense"
         },
         12.74
        ],
        [
         {
          "length": 6,
          "values": [
           2.0,
           2.0,
           1.0,
           2.0,
           1.0,
           1.0
          ],
          "vectorType": "dense"
         },
         13.0
        ],
        [
         {
          "length": 6,
          "values": [
           2.5,
           2.0,
           1.0,
           2.0,
           1.0,
           1.0
          ],
          "vectorType": "dense"
         },
         16.4
        ],
        [
         {
          "length": 6,
          "values": [
           4.0,
           4.0,
           0.0,
           2.0,
           1.0,
           1.0
          ],
          "vectorType": "dense"
         },
         20.53
        ],
        [
         {
          "length": 6,
          "values": [
           3.23,
           3.0,
           1.0,
           2.0,
           1.0,
           1.0
          ],
          "vectorType": "dense"
         },
         16.47
        ],
        [
         {
          "length": 6,
          "values": [
           3.41,
           3.0,
           0.0,
           0.0,
           0.0,
           1.0
          ],
          "vectorType": "dense"
         },
         26.59
        ],
        [
         {
          "length": 6,
          "values": [
           3.0,
           4.0,
           0.0,
           0.0,
           0.0,
           1.0
          ],
          "vectorType": "dense"
         },
         38.73
        ],
        [
         {
          "length": 6,
          "values": [
           2.03,
           2.0,
           0.0,
           0.0,
           0.0,
           1.0
          ],
          "vectorType": "dense"
         },
         24.27
        ],
        [
         {
          "length": 6,
          "values": [
           2.23,
           2.0,
           1.0,
           0.0,
           0.0,
           1.0
          ],
          "vectorType": "dense"
         },
         12.76
        ],
        [
         {
          "length": 6,
          "values": [
           2.0,
           3.0,
           0.0,
           0.0,
           0.0,
           1.0
          ],
          "vectorType": "dense"
         },
         30.06
        ],
        [
         {
          "length": 6,
          "values": [
           5.16,
           4.0,
           0.0,
           0.0,
           0.0,
           1.0
          ],
          "vectorType": "dense"
         },
         25.89
        ],
        [
         {
          "indices": [
           0,
           1
          ],
          "length": 6,
          "values": [
           9.0,
           4.0
          ],
          "vectorType": "sparse"
         },
         48.33
        ],
        [
         {
          "length": 6,
          "values": [
           2.5,
           2.0,
           1.0,
           0.0,
           0.0,
           1.0
          ],
          "vectorType": "dense"
         },
         13.27
        ],
        [
         {
          "length": 6,
          "values": [
           6.5,
           3.0,
           1.0,
           0.0,
           0.0,
           1.0
          ],
          "vectorType": "dense"
         },
         28.17
        ],
        [
         {
          "length": 6,
          "values": [
           1.1,
           2.0,
           1.0,
           0.0,
           0.0,
           1.0
          ],
          "vectorType": "dense"
         },
         12.9
        ],
        [
         {
          "length": 6,
          "values": [
           3.0,
           5.0,
           0.0,
           0.0,
           0.0,
           1.0
          ],
          "vectorType": "dense"
         },
         28.15
        ],
        [
         {
          "length": 6,
          "values": [
           1.5,
           2.0,
           0.0,
           0.0,
           0.0,
           1.0
          ],
          "vectorType": "dense"
         },
         11.59
        ],
        [
         {
          "length": 6,
          "values": [
           1.44,
           2.0,
           0.0,
           0.0,
           0.0,
           1.0
          ],
          "vectorType": "dense"
         },
         7.74
        ],
        [
         {
          "length": 6,
          "values": [
           3.09,
           4.0,
           1.0,
           0.0,
           0.0,
           1.0
          ],
          "vectorType": "dense"
         },
         30.14
        ],
        [
         {
          "length": 6,
          "values": [
           2.2,
           2.0,
           0.0,
           3.0,
           1.0,
           1.0
          ],
          "vectorType": "dense"
         },
         12.16
        ],
        [
         {
          "length": 6,
          "values": [
           3.48,
           2.0,
           1.0,
           3.0,
           1.0,
           1.0
          ],
          "vectorType": "dense"
         },
         13.42
        ],
        [
         {
          "length": 6,
          "values": [
           1.92,
           1.0,
           0.0,
           3.0,
           1.0,
           1.0
          ],
          "vectorType": "dense"
         },
         8.58
        ],
        [
         {
          "length": 6,
          "values": [
           3.0,
           3.0,
           1.0,
           3.0,
           1.0,
           0.0
          ],
          "vectorType": "dense"
         },
         15.98
        ],
        [
         {
          "length": 6,
          "values": [
           1.58,
           2.0,
           0.0,
           3.0,
           1.0,
           1.0
          ],
          "vectorType": "dense"
         },
         13.42
        ],
        [
         {
          "length": 6,
          "values": [
           2.5,
           2.0,
           1.0,
           3.0,
           1.0,
           1.0
          ],
          "vectorType": "dense"
         },
         16.27
        ],
        [
         {
          "length": 6,
          "values": [
           2.0,
           2.0,
           1.0,
           3.0,
           1.0,
           1.0
          ],
          "vectorType": "dense"
         },
         10.09
        ],
        [
         {
          "indices": [
           0,
           1
          ],
          "length": 6,
          "values": [
           3.0,
           4.0
          ],
          "vectorType": "sparse"
         },
         20.45
        ],
        [
         {
          "indices": [
           0,
           1
          ],
          "length": 6,
          "values": [
           2.72,
           2.0
          ],
          "vectorType": "sparse"
         },
         13.28
        ],
        [
         {
          "length": 6,
          "values": [
           2.88,
           2.0,
           1.0,
           0.0,
           0.0,
           1.0
          ],
          "vectorType": "dense"
         },
         22.12
        ],
        [
         {
          "length": 6,
          "values": [
           2.0,
           4.0,
           0.0,
           0.0,
           0.0,
           1.0
          ],
          "vectorType": "dense"
         },
         24.01
        ],
        [
         {
          "length": 6,
          "values": [
           3.0,
           3.0,
           0.0,
           0.0,
           0.0,
           1.0
          ],
          "vectorType": "dense"
         },
         15.69
        ],
        [
         {
          "indices": [
           0,
           1
          ],
          "length": 6,
          "values": [
           3.39,
           2.0
          ],
          "vectorType": "sparse"
         },
         11.61
        ],
        [
         {
          "indices": [
           0,
           1
          ],
          "length": 6,
          "values": [
           1.47,
           2.0
          ],
          "vectorType": "sparse"
         },
         10.77
        ],
        [
         {
          "length": 6,
          "values": [
           3.0,
           2.0,
           0.0,
           0.0,
           0.0,
           1.0
          ],
          "vectorType": "dense"
         },
         15.53
        ],
        [
         {
          "indices": [
           0,
           1
          ],
          "length": 6,
          "values": [
           1.25,
           2.0
          ],
          "vectorType": "sparse"
         },
         10.07
        ],
        [
         {
          "length": 6,
          "values": [
           1.0,
           2.0,
           0.0,
           0.0,
           0.0,
           1.0
          ],
          "vectorType": "dense"
         },
         12.6
        ],
        [
         {
          "length": 6,
          "values": [
           1.17,
           2.0,
           0.0,
           0.0,
           0.0,
           1.0
          ],
          "vectorType": "dense"
         },
         32.83
        ],
        [
         {
          "length": 6,
          "values": [
           4.67,
           3.0,
           1.0,
           0.0,
           0.0,
           0.0
          ],
          "vectorType": "dense"
         },
         35.83
        ],
        [
         {
          "indices": [
           0,
           1
          ],
          "length": 6,
          "values": [
           5.92,
           3.0
          ],
          "vectorType": "sparse"
         },
         29.03
        ],
        [
         {
          "length": 6,
          "values": [
           2.0,
           2.0,
           1.0,
           0.0,
           0.0,
           1.0
          ],
          "vectorType": "dense"
         },
         27.18
        ],
        [
         {
          "length": 6,
          "values": [
           2.0,
           2.0,
           0.0,
           0.0,
           0.0,
           1.0
          ],
          "vectorType": "dense"
         },
         22.67
        ],
        [
         {
          "indices": [
           0,
           1
          ],
          "length": 6,
          "values": [
           1.75,
           2.0
          ],
          "vectorType": "sparse"
         },
         17.82
        ],
        [
         {
          "length": 6,
          "values": [
           3.0,
           2.0,
           1.0,
           2.0,
           0.0,
           0.0
          ],
          "vectorType": "dense"
         },
         18.78
        ]
       ],
       "datasetInfos": [],
       "dbfsResultPath": null,
       "isJsonSchema": true,
       "metadata": {},
       "overflow": false,
       "plotOptions": {
        "customPlotOptions": {},
        "displayType": "table",
        "pivotAggregation": null,
        "pivotColumns": null,
        "xColumns": null,
        "yColumns": null
       },
       "removedWidgets": [],
       "schema": [
        {
         "metadata": "{\"ml_attr\":{\"attrs\":{\"numeric\":[{\"idx\":0,\"name\":\"tip\"},{\"idx\":1,\"name\":\"size\"}],\"nominal\":[{\"vals\":[\"Male\",\"Female\"],\"idx\":2,\"name\":\"sex_indexed\"},{\"vals\":[\"Sat\",\"Sun\",\"Thur\",\"Fri\"],\"idx\":3,\"name\":\"dayindex\"},{\"vals\":[\"Dinner\",\"Lunch\"],\"idx\":4,\"name\":\"timeindex\"},{\"vals\":[\"No\",\"Yes\"],\"idx\":5,\"name\":\"smokerindex\"}]},\"num_attrs\":6}}",
         "name": "Independent Features",
         "type": "{\"type\":\"udt\",\"class\":\"org.apache.spark.ml.linalg.VectorUDT\",\"pyClass\":\"pyspark.ml.linalg.VectorUDT\",\"sqlType\":{\"type\":\"struct\",\"fields\":[{\"name\":\"type\",\"type\":\"byte\",\"nullable\":false,\"metadata\":{}},{\"name\":\"size\",\"type\":\"integer\",\"nullable\":true,\"metadata\":{}},{\"name\":\"indices\",\"type\":{\"type\":\"array\",\"elementType\":\"integer\",\"containsNull\":false},\"nullable\":true,\"metadata\":{}},{\"name\":\"values\",\"type\":{\"type\":\"array\",\"elementType\":\"double\",\"containsNull\":false},\"nullable\":true,\"metadata\":{}}]}}"
        },
        {
         "metadata": "{}",
         "name": "total_bill",
         "type": "\"double\""
        }
       ],
       "type": "table"
      }
     },
     "output_type": "display_data"
    }
   ],
   "source": [
    "output=out.select(\"Independent Features\",\"total_bill\")\n",
    "display(output)\n"
   ]
  },
  {
   "cell_type": "code",
   "execution_count": 0,
   "metadata": {
    "application/vnd.databricks.v1+cell": {
     "cellMetadata": {
      "byteLimit": 2048000,
      "rowLimit": 10000
     },
     "inputWidgets": {},
     "nuid": "5bdf0209-6e05-48fe-9844-f2c8129d8a71",
     "showTitle": false,
     "title": ""
    }
   },
   "outputs": [],
   "source": [
    "from pyspark.ml.regression import LinearRegression\n",
    "train_data,test_data=output.randomSplit([0.75,0.25])\n",
    "regressor=LinearRegression(featuresCol='Independent Features',labelCol='total_bill')\n",
    "regressor=regressor.fit(train_data)"
   ]
  },
  {
   "cell_type": "code",
   "execution_count": 0,
   "metadata": {
    "application/vnd.databricks.v1+cell": {
     "cellMetadata": {
      "byteLimit": 2048000,
      "rowLimit": 10000
     },
     "inputWidgets": {},
     "nuid": "aa73a872-58e8-4332-98a7-a87071ab9b70",
     "showTitle": false,
     "title": ""
    }
   },
   "outputs": [
    {
     "output_type": "stream",
     "name": "stdout",
     "output_type": "stream",
     "text": [
      "Out[25]: DenseVector([3.1433, 3.859, -1.2192, -0.4407, -0.5812, 3.3483])"
     ]
    }
   ],
   "source": [
    "regressor.coefficients\n"
   ]
  },
  {
   "cell_type": "code",
   "execution_count": 0,
   "metadata": {
    "application/vnd.databricks.v1+cell": {
     "cellMetadata": {
      "byteLimit": 2048000,
      "rowLimit": 10000
     },
     "inputWidgets": {},
     "nuid": "451e2615-d24f-4777-b034-f71c9a97834d",
     "showTitle": false,
     "title": ""
    }
   },
   "outputs": [
    {
     "output_type": "stream",
     "name": "stdout",
     "output_type": "stream",
     "text": [
      "Out[26]: 0.3984368489968172"
     ]
    }
   ],
   "source": [
    "regressor.intercept"
   ]
  },
  {
   "cell_type": "code",
   "execution_count": 0,
   "metadata": {
    "application/vnd.databricks.v1+cell": {
     "cellMetadata": {
      "byteLimit": 2048000,
      "rowLimit": 10000
     },
     "inputWidgets": {},
     "nuid": "d2884e9e-00b5-42cb-b358-161a9443e22a",
     "showTitle": false,
     "title": ""
    }
   },
   "outputs": [],
   "source": [
    "pred=regressor.evaluate(test_data)"
   ]
  },
  {
   "cell_type": "code",
   "execution_count": 0,
   "metadata": {
    "application/vnd.databricks.v1+cell": {
     "cellMetadata": {
      "byteLimit": 2048000,
      "rowLimit": 10000
     },
     "inputWidgets": {},
     "nuid": "9da036c5-7c74-43f7-932f-b41b8f9d62cd",
     "showTitle": false,
     "title": ""
    }
   },
   "outputs": [
    {
     "output_type": "stream",
     "name": "stdout",
     "output_type": "stream",
     "text": [
      "+--------------------+----------+------------------+\n|Independent Features|total_bill|        prediction|\n+--------------------+----------+------------------+\n| (6,[0,1],[2.0,3.0])|     16.31|18.262008686353894|\n|(6,[0,1],[2.01,2.0])|     20.23|14.434421375577474|\n|(6,[0,1],[2.24,3.0])|     16.04| 19.01639015295817|\n|(6,[0,1],[2.31,3.0])|     18.69|19.236418080717748|\n|(6,[0,1],[2.34,4.0])|     17.81|23.189735635928216|\n|(6,[0,1],[3.27,2.0])|     17.78|18.394924075249904|\n| (6,[0,1],[4.3,2.0])|      21.7|21.632477869426573|\n|[1.0,1.0,1.0,0.0,...|      7.25|6.1815088174640875|\n|[1.1,2.0,1.0,0.0,...|      12.9|13.703203733597025|\n|[1.48,2.0,0.0,2.0...|      8.52|11.305799584582067|\n|[1.5,2.0,0.0,0.0,...|     11.59| 16.17971019220628|\n|[1.5,2.0,0.0,2.0,...|     19.08| 11.36866470679909|\n|[1.5,2.0,0.0,3.0,...|     12.46|11.509151332591992|\n|[1.5,2.0,1.0,2.0,...|     11.17|10.149460692530289|\n|[1.66,3.0,0.0,1.0...|     10.34| 16.75256513318071|\n|[1.73,2.0,0.0,2.0...|      9.78|12.091613612294852|\n|[1.76,2.0,0.0,0.0...|     11.24| 16.99695678102757|\n|[1.8,2.0,1.0,2.0,...|     12.43|11.092437525785629|\n|[1.83,1.0,1.0,2.0...|     10.07| 7.327715337226227|\n|[2.0,2.0,0.0,0.0,...|     22.67|17.751338247631846|\n+--------------------+----------+------------------+\nonly showing top 20 rows\n\n"
     ]
    }
   ],
   "source": [
    "pred.predictions.show()"
   ]
  },
  {
   "cell_type": "code",
   "execution_count": 0,
   "metadata": {
    "application/vnd.databricks.v1+cell": {
     "cellMetadata": {
      "byteLimit": 2048000,
      "rowLimit": 10000
     },
     "inputWidgets": {},
     "nuid": "9ba9a193-561f-412d-a3f0-2604c0d4c813",
     "showTitle": false,
     "title": ""
    }
   },
   "outputs": [
    {
     "output_type": "stream",
     "name": "stdout",
     "output_type": "stream",
     "text": [
      "Out[32]: 3.949864030049971"
     ]
    }
   ],
   "source": [
    "pred.meanAbsoluteError"
   ]
  },
  {
   "cell_type": "code",
   "execution_count": 0,
   "metadata": {
    "application/vnd.databricks.v1+cell": {
     "cellMetadata": {},
     "inputWidgets": {},
     "nuid": "ba9b2695-dff5-4742-9dfe-d7fb48dca4ed",
     "showTitle": false,
     "title": ""
    }
   },
   "outputs": [],
   "source": []
  }
 ],
 "metadata": {
  "application/vnd.databricks.v1+notebook": {
   "dashboards": [],
   "language": "python",
   "notebookMetadata": {
    "pythonIndentUnit": 4
   },
   "notebookName": "Linear Regression",
   "widgets": {}
  }
 },
 "nbformat": 4,
 "nbformat_minor": 0
}
